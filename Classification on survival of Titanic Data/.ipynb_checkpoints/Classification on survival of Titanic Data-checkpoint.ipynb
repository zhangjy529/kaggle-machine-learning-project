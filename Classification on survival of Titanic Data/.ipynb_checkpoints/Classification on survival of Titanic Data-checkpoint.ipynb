{
 "cells": [
  {
   "cell_type": "markdown",
   "metadata": {
    "_uuid": "36da6bf14be632aa4da815a020837793eb03ba02"
   },
   "source": [
    "For this kernel, I will try different machine learning classification models to predict the survival in the Titanic tragety.\n",
    "\n",
    "1. The simple logistic regression has prediction score 0.74641, rank 9565, bad\n",
    "1. The Support Vector Classification with GridSearchCV  has scored 0.79, ranked up 2373\n",
    "1. The Support Vector Classification with with normalized numeric feature,   has scored 0.78947, ranked up 4448\n",
    "1. Random forest classifier"
   ]
  },
  {
   "cell_type": "markdown",
   "metadata": {
    "_uuid": "6571d44cf192aab3a56abe344c5736ddb0610ca0"
   },
   "source": [
    "* I am still working on improving this kernel. I will keep updating my tries and whether they work or not. \n",
    "* If you think my kernel is helpful, please give me a voteup. This is very important for new people like me. Thank you in advance.\n",
    "* If you have any question, please feel free to leave me a message, I will check every day. Thank you so much.\n"
   ]
  },
  {
   "cell_type": "markdown",
   "metadata": {
    "_cell_guid": "b1076dfc-b9ad-4769-8c92-a6c4dae69d19",
    "_uuid": "8f2839f25d086af736a60e9eeb907d3b93b6e0e5",
    "collapsed": true
   },
   "source": [
    "## Part 1: Import the libraries"
   ]
  },
  {
   "cell_type": "code",
   "execution_count": 1,
   "metadata": {
    "_cell_guid": "79c7e3d0-c299-4dcb-8224-4455121ee9b0",
    "_uuid": "d629ff2d2480ee46fbb7e2d37f6b5fab8052498a"
   },
   "outputs": [],
   "source": [
    "import numpy as np\n",
    "import pandas as pd\n",
    "import matplotlib.pyplot as plt\n",
    "%matplotlib inline\n",
    "plt.style.use('ggplot')\n",
    "import seaborn as sns\n",
    "import scipy.stats as stats"
   ]
  },
  {
   "cell_type": "markdown",
   "metadata": {
    "_uuid": "c0da4d57b05559710c2c6a10924037ec98c37155"
   },
   "source": [
    "## Part 2: Load the train and test data and check data"
   ]
  },
  {
   "cell_type": "code",
   "execution_count": 2,
   "metadata": {
    "_uuid": "8e195c5a59888dca3963483456220c2484e024d6"
   },
   "outputs": [],
   "source": [
    "train=pd.read_csv('train.csv')\n",
    "test=pd.read_csv('test.csv')"
   ]
  },
  {
   "cell_type": "code",
   "execution_count": 3,
   "metadata": {
    "_uuid": "dfffdb029207c546869c4813431ce9903ec7862c"
   },
   "outputs": [
    {
     "name": "stdout",
     "output_type": "stream",
     "text": [
      "(891, 12)\n",
      "(418, 11)\n"
     ]
    }
   ],
   "source": [
    "# Check number of observations in the train and test data\n",
    "print(train.shape)\n",
    "print(test.shape)"
   ]
  },
  {
   "cell_type": "code",
   "execution_count": 4,
   "metadata": {
    "_uuid": "e582701af2c5fa547e97b6a41147ffb10863f0a8"
   },
   "outputs": [
    {
     "name": "stdout",
     "output_type": "stream",
     "text": [
      "Index(['PassengerId', 'Survived', 'Pclass', 'Name', 'Sex', 'Age', 'SibSp',\n",
      "       'Parch', 'Ticket', 'Fare', 'Cabin', 'Embarked'],\n",
      "      dtype='object')\n",
      "Index(['PassengerId', 'Pclass', 'Name', 'Sex', 'Age', 'SibSp', 'Parch',\n",
      "       'Ticket', 'Fare', 'Cabin', 'Embarked'],\n",
      "      dtype='object')\n",
      "\n",
      "\n",
      "Variables in test but not in train is:  {'Survived'}\n"
     ]
    }
   ],
   "source": [
    "# check the columns in train and test\n",
    "print(train.columns)\n",
    "print(test.columns)\n",
    "print('\\n')\n",
    "print('Variables in test but not in train is: ', set(train.columns)-set(test.columns))"
   ]
  },
  {
   "cell_type": "code",
   "execution_count": 5,
   "metadata": {
    "_uuid": "824bf1688cdb120fe4129e97f97387ac1365caf1"
   },
   "outputs": [
    {
     "data": {
      "text/html": [
       "<div>\n",
       "<style scoped>\n",
       "    .dataframe tbody tr th:only-of-type {\n",
       "        vertical-align: middle;\n",
       "    }\n",
       "\n",
       "    .dataframe tbody tr th {\n",
       "        vertical-align: top;\n",
       "    }\n",
       "\n",
       "    .dataframe thead th {\n",
       "        text-align: right;\n",
       "    }\n",
       "</style>\n",
       "<table border=\"1\" class=\"dataframe\">\n",
       "  <thead>\n",
       "    <tr style=\"text-align: right;\">\n",
       "      <th></th>\n",
       "      <th>PassengerId</th>\n",
       "      <th>Survived</th>\n",
       "      <th>Pclass</th>\n",
       "      <th>Name</th>\n",
       "      <th>Sex</th>\n",
       "      <th>Age</th>\n",
       "      <th>SibSp</th>\n",
       "      <th>Parch</th>\n",
       "      <th>Ticket</th>\n",
       "      <th>Fare</th>\n",
       "      <th>Cabin</th>\n",
       "      <th>Embarked</th>\n",
       "    </tr>\n",
       "  </thead>\n",
       "  <tbody>\n",
       "    <tr>\n",
       "      <th>0</th>\n",
       "      <td>1</td>\n",
       "      <td>0</td>\n",
       "      <td>3</td>\n",
       "      <td>Braund, Mr. Owen Harris</td>\n",
       "      <td>male</td>\n",
       "      <td>22.0</td>\n",
       "      <td>1</td>\n",
       "      <td>0</td>\n",
       "      <td>A/5 21171</td>\n",
       "      <td>7.2500</td>\n",
       "      <td>NaN</td>\n",
       "      <td>S</td>\n",
       "    </tr>\n",
       "    <tr>\n",
       "      <th>1</th>\n",
       "      <td>2</td>\n",
       "      <td>1</td>\n",
       "      <td>1</td>\n",
       "      <td>Cumings, Mrs. John Bradley (Florence Briggs Th...</td>\n",
       "      <td>female</td>\n",
       "      <td>38.0</td>\n",
       "      <td>1</td>\n",
       "      <td>0</td>\n",
       "      <td>PC 17599</td>\n",
       "      <td>71.2833</td>\n",
       "      <td>C85</td>\n",
       "      <td>C</td>\n",
       "    </tr>\n",
       "    <tr>\n",
       "      <th>2</th>\n",
       "      <td>3</td>\n",
       "      <td>1</td>\n",
       "      <td>3</td>\n",
       "      <td>Heikkinen, Miss. Laina</td>\n",
       "      <td>female</td>\n",
       "      <td>26.0</td>\n",
       "      <td>0</td>\n",
       "      <td>0</td>\n",
       "      <td>STON/O2. 3101282</td>\n",
       "      <td>7.9250</td>\n",
       "      <td>NaN</td>\n",
       "      <td>S</td>\n",
       "    </tr>\n",
       "    <tr>\n",
       "      <th>3</th>\n",
       "      <td>4</td>\n",
       "      <td>1</td>\n",
       "      <td>1</td>\n",
       "      <td>Futrelle, Mrs. Jacques Heath (Lily May Peel)</td>\n",
       "      <td>female</td>\n",
       "      <td>35.0</td>\n",
       "      <td>1</td>\n",
       "      <td>0</td>\n",
       "      <td>113803</td>\n",
       "      <td>53.1000</td>\n",
       "      <td>C123</td>\n",
       "      <td>S</td>\n",
       "    </tr>\n",
       "    <tr>\n",
       "      <th>4</th>\n",
       "      <td>5</td>\n",
       "      <td>0</td>\n",
       "      <td>3</td>\n",
       "      <td>Allen, Mr. William Henry</td>\n",
       "      <td>male</td>\n",
       "      <td>35.0</td>\n",
       "      <td>0</td>\n",
       "      <td>0</td>\n",
       "      <td>373450</td>\n",
       "      <td>8.0500</td>\n",
       "      <td>NaN</td>\n",
       "      <td>S</td>\n",
       "    </tr>\n",
       "  </tbody>\n",
       "</table>\n",
       "</div>"
      ],
      "text/plain": [
       "   PassengerId  Survived  Pclass  \\\n",
       "0            1         0       3   \n",
       "1            2         1       1   \n",
       "2            3         1       3   \n",
       "3            4         1       1   \n",
       "4            5         0       3   \n",
       "\n",
       "                                                Name     Sex   Age  SibSp  \\\n",
       "0                            Braund, Mr. Owen Harris    male  22.0      1   \n",
       "1  Cumings, Mrs. John Bradley (Florence Briggs Th...  female  38.0      1   \n",
       "2                             Heikkinen, Miss. Laina  female  26.0      0   \n",
       "3       Futrelle, Mrs. Jacques Heath (Lily May Peel)  female  35.0      1   \n",
       "4                           Allen, Mr. William Henry    male  35.0      0   \n",
       "\n",
       "   Parch            Ticket     Fare Cabin Embarked  \n",
       "0      0         A/5 21171   7.2500   NaN        S  \n",
       "1      0          PC 17599  71.2833   C85        C  \n",
       "2      0  STON/O2. 3101282   7.9250   NaN        S  \n",
       "3      0            113803  53.1000  C123        S  \n",
       "4      0            373450   8.0500   NaN        S  "
      ]
     },
     "execution_count": 5,
     "metadata": {},
     "output_type": "execute_result"
    }
   ],
   "source": [
    "# Check the first and last five observations of train and test data\n",
    "train.head()"
   ]
  },
  {
   "cell_type": "code",
   "execution_count": 6,
   "metadata": {
    "_uuid": "12870eacb499fa2699806e6339f3aa281cd374b4"
   },
   "outputs": [
    {
     "data": {
      "text/html": [
       "<div>\n",
       "<style scoped>\n",
       "    .dataframe tbody tr th:only-of-type {\n",
       "        vertical-align: middle;\n",
       "    }\n",
       "\n",
       "    .dataframe tbody tr th {\n",
       "        vertical-align: top;\n",
       "    }\n",
       "\n",
       "    .dataframe thead th {\n",
       "        text-align: right;\n",
       "    }\n",
       "</style>\n",
       "<table border=\"1\" class=\"dataframe\">\n",
       "  <thead>\n",
       "    <tr style=\"text-align: right;\">\n",
       "      <th></th>\n",
       "      <th>PassengerId</th>\n",
       "      <th>Pclass</th>\n",
       "      <th>Name</th>\n",
       "      <th>Sex</th>\n",
       "      <th>Age</th>\n",
       "      <th>SibSp</th>\n",
       "      <th>Parch</th>\n",
       "      <th>Ticket</th>\n",
       "      <th>Fare</th>\n",
       "      <th>Cabin</th>\n",
       "      <th>Embarked</th>\n",
       "    </tr>\n",
       "  </thead>\n",
       "  <tbody>\n",
       "    <tr>\n",
       "      <th>0</th>\n",
       "      <td>892</td>\n",
       "      <td>3</td>\n",
       "      <td>Kelly, Mr. James</td>\n",
       "      <td>male</td>\n",
       "      <td>34.5</td>\n",
       "      <td>0</td>\n",
       "      <td>0</td>\n",
       "      <td>330911</td>\n",
       "      <td>7.8292</td>\n",
       "      <td>NaN</td>\n",
       "      <td>Q</td>\n",
       "    </tr>\n",
       "    <tr>\n",
       "      <th>1</th>\n",
       "      <td>893</td>\n",
       "      <td>3</td>\n",
       "      <td>Wilkes, Mrs. James (Ellen Needs)</td>\n",
       "      <td>female</td>\n",
       "      <td>47.0</td>\n",
       "      <td>1</td>\n",
       "      <td>0</td>\n",
       "      <td>363272</td>\n",
       "      <td>7.0000</td>\n",
       "      <td>NaN</td>\n",
       "      <td>S</td>\n",
       "    </tr>\n",
       "    <tr>\n",
       "      <th>2</th>\n",
       "      <td>894</td>\n",
       "      <td>2</td>\n",
       "      <td>Myles, Mr. Thomas Francis</td>\n",
       "      <td>male</td>\n",
       "      <td>62.0</td>\n",
       "      <td>0</td>\n",
       "      <td>0</td>\n",
       "      <td>240276</td>\n",
       "      <td>9.6875</td>\n",
       "      <td>NaN</td>\n",
       "      <td>Q</td>\n",
       "    </tr>\n",
       "    <tr>\n",
       "      <th>3</th>\n",
       "      <td>895</td>\n",
       "      <td>3</td>\n",
       "      <td>Wirz, Mr. Albert</td>\n",
       "      <td>male</td>\n",
       "      <td>27.0</td>\n",
       "      <td>0</td>\n",
       "      <td>0</td>\n",
       "      <td>315154</td>\n",
       "      <td>8.6625</td>\n",
       "      <td>NaN</td>\n",
       "      <td>S</td>\n",
       "    </tr>\n",
       "    <tr>\n",
       "      <th>4</th>\n",
       "      <td>896</td>\n",
       "      <td>3</td>\n",
       "      <td>Hirvonen, Mrs. Alexander (Helga E Lindqvist)</td>\n",
       "      <td>female</td>\n",
       "      <td>22.0</td>\n",
       "      <td>1</td>\n",
       "      <td>1</td>\n",
       "      <td>3101298</td>\n",
       "      <td>12.2875</td>\n",
       "      <td>NaN</td>\n",
       "      <td>S</td>\n",
       "    </tr>\n",
       "  </tbody>\n",
       "</table>\n",
       "</div>"
      ],
      "text/plain": [
       "   PassengerId  Pclass                                          Name     Sex  \\\n",
       "0          892       3                              Kelly, Mr. James    male   \n",
       "1          893       3              Wilkes, Mrs. James (Ellen Needs)  female   \n",
       "2          894       2                     Myles, Mr. Thomas Francis    male   \n",
       "3          895       3                              Wirz, Mr. Albert    male   \n",
       "4          896       3  Hirvonen, Mrs. Alexander (Helga E Lindqvist)  female   \n",
       "\n",
       "    Age  SibSp  Parch   Ticket     Fare Cabin Embarked  \n",
       "0  34.5      0      0   330911   7.8292   NaN        Q  \n",
       "1  47.0      1      0   363272   7.0000   NaN        S  \n",
       "2  62.0      0      0   240276   9.6875   NaN        Q  \n",
       "3  27.0      0      0   315154   8.6625   NaN        S  \n",
       "4  22.0      1      1  3101298  12.2875   NaN        S  "
      ]
     },
     "execution_count": 6,
     "metadata": {},
     "output_type": "execute_result"
    }
   ],
   "source": [
    "test.head()"
   ]
  },
  {
   "cell_type": "code",
   "execution_count": 7,
   "metadata": {
    "_uuid": "1d2f02928d512e0a74931da85cc58c5ec8fda6af"
   },
   "outputs": [
    {
     "name": "stdout",
     "output_type": "stream",
     "text": [
      "<class 'pandas.core.frame.DataFrame'>\n",
      "RangeIndex: 891 entries, 0 to 890\n",
      "Data columns (total 12 columns):\n",
      "PassengerId    891 non-null int64\n",
      "Survived       891 non-null int64\n",
      "Pclass         891 non-null int64\n",
      "Name           891 non-null object\n",
      "Sex            891 non-null object\n",
      "Age            714 non-null float64\n",
      "SibSp          891 non-null int64\n",
      "Parch          891 non-null int64\n",
      "Ticket         891 non-null object\n",
      "Fare           891 non-null float64\n",
      "Cabin          204 non-null object\n",
      "Embarked       889 non-null object\n",
      "dtypes: float64(2), int64(5), object(5)\n",
      "memory usage: 83.6+ KB\n",
      "None\n",
      "<class 'pandas.core.frame.DataFrame'>\n",
      "RangeIndex: 418 entries, 0 to 417\n",
      "Data columns (total 11 columns):\n",
      "PassengerId    418 non-null int64\n",
      "Pclass         418 non-null int64\n",
      "Name           418 non-null object\n",
      "Sex            418 non-null object\n",
      "Age            332 non-null float64\n",
      "SibSp          418 non-null int64\n",
      "Parch          418 non-null int64\n",
      "Ticket         418 non-null object\n",
      "Fare           417 non-null float64\n",
      "Cabin          91 non-null object\n",
      "Embarked       418 non-null object\n",
      "dtypes: float64(2), int64(4), object(5)\n",
      "memory usage: 36.0+ KB\n",
      "None\n"
     ]
    }
   ],
   "source": [
    "# Check data type and NAN value\n",
    "print(train.info())\n",
    "print(test.info())"
   ]
  },
  {
   "cell_type": "code",
   "execution_count": 8,
   "metadata": {
    "_uuid": "953c87887af2a7d001af8784a415579c4f3c2e69"
   },
   "outputs": [
    {
     "data": {
      "text/html": [
       "<div>\n",
       "<style scoped>\n",
       "    .dataframe tbody tr th:only-of-type {\n",
       "        vertical-align: middle;\n",
       "    }\n",
       "\n",
       "    .dataframe tbody tr th {\n",
       "        vertical-align: top;\n",
       "    }\n",
       "\n",
       "    .dataframe thead th {\n",
       "        text-align: right;\n",
       "    }\n",
       "</style>\n",
       "<table border=\"1\" class=\"dataframe\">\n",
       "  <thead>\n",
       "    <tr style=\"text-align: right;\">\n",
       "      <th></th>\n",
       "      <th>PassengerId</th>\n",
       "      <th>Survived</th>\n",
       "      <th>Pclass</th>\n",
       "      <th>Age</th>\n",
       "      <th>SibSp</th>\n",
       "      <th>Parch</th>\n",
       "      <th>Fare</th>\n",
       "    </tr>\n",
       "  </thead>\n",
       "  <tbody>\n",
       "    <tr>\n",
       "      <th>count</th>\n",
       "      <td>891.000000</td>\n",
       "      <td>891.000000</td>\n",
       "      <td>891.000000</td>\n",
       "      <td>714.000000</td>\n",
       "      <td>891.000000</td>\n",
       "      <td>891.000000</td>\n",
       "      <td>891.000000</td>\n",
       "    </tr>\n",
       "    <tr>\n",
       "      <th>mean</th>\n",
       "      <td>446.000000</td>\n",
       "      <td>0.383838</td>\n",
       "      <td>2.308642</td>\n",
       "      <td>29.699118</td>\n",
       "      <td>0.523008</td>\n",
       "      <td>0.381594</td>\n",
       "      <td>32.204208</td>\n",
       "    </tr>\n",
       "    <tr>\n",
       "      <th>std</th>\n",
       "      <td>257.353842</td>\n",
       "      <td>0.486592</td>\n",
       "      <td>0.836071</td>\n",
       "      <td>14.526497</td>\n",
       "      <td>1.102743</td>\n",
       "      <td>0.806057</td>\n",
       "      <td>49.693429</td>\n",
       "    </tr>\n",
       "    <tr>\n",
       "      <th>min</th>\n",
       "      <td>1.000000</td>\n",
       "      <td>0.000000</td>\n",
       "      <td>1.000000</td>\n",
       "      <td>0.420000</td>\n",
       "      <td>0.000000</td>\n",
       "      <td>0.000000</td>\n",
       "      <td>0.000000</td>\n",
       "    </tr>\n",
       "    <tr>\n",
       "      <th>25%</th>\n",
       "      <td>223.500000</td>\n",
       "      <td>0.000000</td>\n",
       "      <td>2.000000</td>\n",
       "      <td>20.125000</td>\n",
       "      <td>0.000000</td>\n",
       "      <td>0.000000</td>\n",
       "      <td>7.910400</td>\n",
       "    </tr>\n",
       "    <tr>\n",
       "      <th>50%</th>\n",
       "      <td>446.000000</td>\n",
       "      <td>0.000000</td>\n",
       "      <td>3.000000</td>\n",
       "      <td>28.000000</td>\n",
       "      <td>0.000000</td>\n",
       "      <td>0.000000</td>\n",
       "      <td>14.454200</td>\n",
       "    </tr>\n",
       "    <tr>\n",
       "      <th>75%</th>\n",
       "      <td>668.500000</td>\n",
       "      <td>1.000000</td>\n",
       "      <td>3.000000</td>\n",
       "      <td>38.000000</td>\n",
       "      <td>1.000000</td>\n",
       "      <td>0.000000</td>\n",
       "      <td>31.000000</td>\n",
       "    </tr>\n",
       "    <tr>\n",
       "      <th>max</th>\n",
       "      <td>891.000000</td>\n",
       "      <td>1.000000</td>\n",
       "      <td>3.000000</td>\n",
       "      <td>80.000000</td>\n",
       "      <td>8.000000</td>\n",
       "      <td>6.000000</td>\n",
       "      <td>512.329200</td>\n",
       "    </tr>\n",
       "  </tbody>\n",
       "</table>\n",
       "</div>"
      ],
      "text/plain": [
       "       PassengerId    Survived      Pclass         Age       SibSp  \\\n",
       "count   891.000000  891.000000  891.000000  714.000000  891.000000   \n",
       "mean    446.000000    0.383838    2.308642   29.699118    0.523008   \n",
       "std     257.353842    0.486592    0.836071   14.526497    1.102743   \n",
       "min       1.000000    0.000000    1.000000    0.420000    0.000000   \n",
       "25%     223.500000    0.000000    2.000000   20.125000    0.000000   \n",
       "50%     446.000000    0.000000    3.000000   28.000000    0.000000   \n",
       "75%     668.500000    1.000000    3.000000   38.000000    1.000000   \n",
       "max     891.000000    1.000000    3.000000   80.000000    8.000000   \n",
       "\n",
       "            Parch        Fare  \n",
       "count  891.000000  891.000000  \n",
       "mean     0.381594   32.204208  \n",
       "std      0.806057   49.693429  \n",
       "min      0.000000    0.000000  \n",
       "25%      0.000000    7.910400  \n",
       "50%      0.000000   14.454200  \n",
       "75%      0.000000   31.000000  \n",
       "max      6.000000  512.329200  "
      ]
     },
     "execution_count": 8,
     "metadata": {},
     "output_type": "execute_result"
    }
   ],
   "source": [
    "# Check basic descriptive information for numeric features\n",
    "train.describe()"
   ]
  },
  {
   "cell_type": "markdown",
   "metadata": {
    "_uuid": "88e8ded2f947599802af8f3dc8fbf6670409a2ae"
   },
   "source": [
    "## Part 3: Data Visualization and feature selection"
   ]
  },
  {
   "cell_type": "markdown",
   "metadata": {
    "_uuid": "e6eeca566b0db82e53840880c67a3396f53ff399"
   },
   "source": [
    "### 3.1 Count plot to check how many people died\n",
    "\n",
    "* Survival 0 = No, 1 = Yes\n",
    "* We can see that about 62% died and 38% alive"
   ]
  },
  {
   "cell_type": "code",
   "execution_count": 9,
   "metadata": {
    "_uuid": "7d4bd043768b8d4c62f6d819bd5dd47767ffbb22"
   },
   "outputs": [
    {
     "data": {
      "text/plain": [
       "0    0.616162\n",
       "1    0.383838\n",
       "Name: Survived, dtype: float64"
      ]
     },
     "execution_count": 9,
     "metadata": {},
     "output_type": "execute_result"
    },
    {
     "data": {
      "image/png": "[encoded data removed]",
      "text/plain": [
       "<Figure size 432x288 with 1 Axes>"
      ]
     },
     "metadata": {},
     "output_type": "display_data"
    }
   ],
   "source": [
    "sns.countplot(x=train['Survived'])\n",
    "train['Survived'].value_counts(normalize=True)"
   ]
  },
  {
   "cell_type": "markdown",
   "metadata": {
    "_uuid": "1c2d26295ef14ca97b1ad85d4b2e66fe6caabd06"
   },
   "source": [
    "### 3.2 Check whether the survival has any relationship with Gender\n",
    "* From the count plot and two way contigency table, 74% of female survive and only 19% of male survive.\n",
    "* Female are more likely to survive in the Titanic tragedy"
   ]
  },
  {
   "cell_type": "code",
   "execution_count": 10,
   "metadata": {
    "_uuid": "76ccfa4a6b0486e67736ff1351f9027ce66e2a47"
   },
   "outputs": [
    {
     "data": {
      "text/html": [
       "<div>\n",
       "<style scoped>\n",
       "    .dataframe tbody tr th:only-of-type {\n",
       "        vertical-align: middle;\n",
       "    }\n",
       "\n",
       "    .dataframe tbody tr th {\n",
       "        vertical-align: top;\n",
       "    }\n",
       "\n",
       "    .dataframe thead th {\n",
       "        text-align: right;\n",
       "    }\n",
       "</style>\n",
       "<table border=\"1\" class=\"dataframe\">\n",
       "  <thead>\n",
       "    <tr style=\"text-align: right;\">\n",
       "      <th>Survived</th>\n",
       "      <th>0</th>\n",
       "      <th>1</th>\n",
       "    </tr>\n",
       "    <tr>\n",
       "      <th>Sex</th>\n",
       "      <th></th>\n",
       "      <th></th>\n",
       "    </tr>\n",
       "  </thead>\n",
       "  <tbody>\n",
       "    <tr>\n",
       "      <th>female</th>\n",
       "      <td>0.257962</td>\n",
       "      <td>0.742038</td>\n",
       "    </tr>\n",
       "    <tr>\n",
       "      <th>male</th>\n",
       "      <td>0.811092</td>\n",
       "      <td>0.188908</td>\n",
       "    </tr>\n",
       "  </tbody>\n",
       "</table>\n",
       "</div>"
      ],
      "text/plain": [
       "Survived         0         1\n",
       "Sex                         \n",
       "female    0.257962  0.742038\n",
       "male      0.811092  0.188908"
      ]
     },
     "execution_count": 10,
     "metadata": {},
     "output_type": "execute_result"
    },
    {
     "data": {
      "image/png": "[encoded data removed]",
      "text/plain": [
       "<Figure size 432x288 with 1 Axes>"
      ]
     },
     "metadata": {},
     "output_type": "display_data"
    }
   ],
   "source": [
    "sns.countplot(train['Survived'], hue=train['Sex'])\n",
    "# Add contigency table for Sex by Survived\n",
    "pd.crosstab(train['Sex'],train['Survived'], normalize='index')"
   ]
  },
  {
   "cell_type": "markdown",
   "metadata": {
    "_uuid": "7069bb8377a7603c997a1a67a972bb33cf5e17ff"
   },
   "source": [
    "### 3.3 Check the relationship between Survival and Economic class\n",
    "\n",
    "pclass: A proxy for socio-economic status (SES)\n",
    "* 1st = Upper\n",
    "* 2nd = Middle\n",
    "* 3rd = Lower\n",
    "\n",
    "From the Count plot and contigency table, \n",
    "* Upper class with Pclass=1 has survival rate 63%\n",
    "* Middle class with Pclass=2 has survival rate 47%\n",
    "* Lower class with Pclass=3 has survival rate of only 24%\n",
    "\n",
    "So Higher Economic class people are more likely to survive than people in lower Economic class "
   ]
  },
  {
   "cell_type": "code",
   "execution_count": 11,
   "metadata": {
    "_uuid": "2d330579ea51b9b337874670b037f3cb8629cc90"
   },
   "outputs": [
    {
     "data": {
      "text/html": [
       "<div>\n",
       "<style scoped>\n",
       "    .dataframe tbody tr th:only-of-type {\n",
       "        vertical-align: middle;\n",
       "    }\n",
       "\n",
       "    .dataframe tbody tr th {\n",
       "        vertical-align: top;\n",
       "    }\n",
       "\n",
       "    .dataframe thead th {\n",
       "        text-align: right;\n",
       "    }\n",
       "</style>\n",
       "<table border=\"1\" class=\"dataframe\">\n",
       "  <thead>\n",
       "    <tr style=\"text-align: right;\">\n",
       "      <th>Survived</th>\n",
       "      <th>0</th>\n",
       "      <th>1</th>\n",
       "    </tr>\n",
       "    <tr>\n",
       "      <th>Pclass</th>\n",
       "      <th></th>\n",
       "      <th></th>\n",
       "    </tr>\n",
       "  </thead>\n",
       "  <tbody>\n",
       "    <tr>\n",
       "      <th>1</th>\n",
       "      <td>0.370370</td>\n",
       "      <td>0.629630</td>\n",
       "    </tr>\n",
       "    <tr>\n",
       "      <th>2</th>\n",
       "      <td>0.527174</td>\n",
       "      <td>0.472826</td>\n",
       "    </tr>\n",
       "    <tr>\n",
       "      <th>3</th>\n",
       "      <td>0.757637</td>\n",
       "      <td>0.242363</td>\n",
       "    </tr>\n",
       "  </tbody>\n",
       "</table>\n",
       "</div>"
      ],
      "text/plain": [
       "Survived         0         1\n",
       "Pclass                      \n",
       "1         0.370370  0.629630\n",
       "2         0.527174  0.472826\n",
       "3         0.757637  0.242363"
      ]
     },
     "execution_count": 11,
     "metadata": {},
     "output_type": "execute_result"
    },
    {
     "data": {
      "image/png": "[encoded data removed]",
      "text/plain": [
       "<Figure size 432x288 with 1 Axes>"
      ]
     },
     "metadata": {},
     "output_type": "display_data"
    }
   ],
   "source": [
    "sns.countplot(train['Survived'], hue=train['Pclass'])\n",
    "# Add contigency table for Pclass by Survived\n",
    "pd.crosstab(train['Pclass'],train['Survived'], normalize='index')"
   ]
  },
  {
   "cell_type": "markdown",
   "metadata": {
    "_uuid": "ab746429ea1056237e8cee7f4b13d3356ca6150e"
   },
   "source": [
    "### 3.4 Check age information and Survival by Age\n",
    "\n",
    "* We can see that there are some children and very senior people on the boat\n",
    "* Children under 10 has more than 50% of survival rate\n",
    "* The survival rate decreases as age grow. Child under 5% has survival rate of 67.5% and senior people >60 has only survival rate of 27%"
   ]
  },
  {
   "cell_type": "code",
   "execution_count": 12,
   "metadata": {
    "_uuid": "b072a20fc0e625042731a05a312c135c13369e93"
   },
   "outputs": [
    {
     "data": {
      "text/plain": [
       "(array([30., 14., 10., 14.,  3., 29., 39., 65., 73., 42., 65., 62., 33.,\n",
       "        47., 38., 21., 28., 21., 16., 14., 15.,  7.,  9.,  8.,  4.,  0.,\n",
       "         5.,  1.,  0.,  1.]),\n",
       " array([ 0.42      ,  3.07266667,  5.72533333,  8.378     , 11.03066667,\n",
       "        13.68333333, 16.336     , 18.98866667, 21.64133333, 24.294     ,\n",
       "        26.94666667, 29.59933333, 32.252     , 34.90466667, 37.55733333,\n",
       "        40.21      , 42.86266667, 45.51533333, 48.168     , 50.82066667,\n",
       "        53.47333333, 56.126     , 58.77866667, 61.43133333, 64.084     ,\n",
       "        66.73666667, 69.38933333, 72.042     , 74.69466667, 77.34733333,\n",
       "        80.        ]),\n",
       " <a list of 30 Patch objects>)"
      ]
     },
     "execution_count": 12,
     "metadata": {},
     "output_type": "execute_result"
    },
    {
     "data": {
      "image/png": "[encoded data removed]",
      "text/plain": [
       "<Figure size 504x504 with 1 Axes>"
      ]
     },
     "metadata": {},
     "output_type": "display_data"
    }
   ],
   "source": [
    "plt.figure(figsize=(7,7))\n",
    "plt.hist(train['Age'].dropna(), bins=30)\n",
    "# We can see that there are some children and very senior people on the boat"
   ]
  },
  {
   "cell_type": "markdown",
   "metadata": {
    "_uuid": "9280948a4eca2fa9b982b3c4282584cbfcec2e0f"
   },
   "source": [
    "* Create age group and check the relationship between Survived and Age"
   ]
  },
  {
   "cell_type": "code",
   "execution_count": 13,
   "metadata": {
    "_uuid": "c7fca0dd95897a27e78f8d273ad39a8cdc2e9d89"
   },
   "outputs": [
    {
     "name": "stdout",
     "output_type": "stream",
     "text": [
      "The minimum age is:  0.42\n",
      "The maximum age is:  80.0\n"
     ]
    }
   ],
   "source": [
    "print('The minimum age is: ', train['Age'].min())\n",
    "print('The maximum age is: ', train['Age'].max())\n",
    "\n",
    "def age_group(Age):\n",
    "    if Age<5:\n",
    "        return \"Group 1: < 5 Years old\"\n",
    "    elif Age<10:\n",
    "        return \"Group 2: 5-10 Years old\"\n",
    "    elif Age<20:\n",
    "        return \"Group 3: 10-20 Years old\"\n",
    "    elif Age<40:\n",
    "        return \"Group 4: 20-40 Years old\"\n",
    "    elif Age<60:\n",
    "        return \"Group 5: 40-60 Years old\"\n",
    "    else:\n",
    "        return \"Group 6: >= 60 Years old\"\n",
    "train['Age_Group']=train['Age'].apply(age_group)"
   ]
  },
  {
   "cell_type": "code",
   "execution_count": 14,
   "metadata": {
    "_uuid": "3f532a0bdc7ce1b50983fea4d612fe22293ab448"
   },
   "outputs": [
    {
     "data": {
      "text/html": [
       "<div>\n",
       "<style scoped>\n",
       "    .dataframe tbody tr th:only-of-type {\n",
       "        vertical-align: middle;\n",
       "    }\n",
       "\n",
       "    .dataframe tbody tr th {\n",
       "        vertical-align: top;\n",
       "    }\n",
       "\n",
       "    .dataframe thead th {\n",
       "        text-align: right;\n",
       "    }\n",
       "</style>\n",
       "<table border=\"1\" class=\"dataframe\">\n",
       "  <thead>\n",
       "    <tr style=\"text-align: right;\">\n",
       "      <th>Survived</th>\n",
       "      <th>0</th>\n",
       "      <th>1</th>\n",
       "    </tr>\n",
       "    <tr>\n",
       "      <th>Age_Group</th>\n",
       "      <th></th>\n",
       "      <th></th>\n",
       "    </tr>\n",
       "  </thead>\n",
       "  <tbody>\n",
       "    <tr>\n",
       "      <th>Group 1: &lt; 5 Years old</th>\n",
       "      <td>0.325000</td>\n",
       "      <td>0.675000</td>\n",
       "    </tr>\n",
       "    <tr>\n",
       "      <th>Group 2: 5-10 Years old</th>\n",
       "      <td>0.500000</td>\n",
       "      <td>0.500000</td>\n",
       "    </tr>\n",
       "    <tr>\n",
       "      <th>Group 3: 10-20 Years old</th>\n",
       "      <td>0.598039</td>\n",
       "      <td>0.401961</td>\n",
       "    </tr>\n",
       "    <tr>\n",
       "      <th>Group 4: 20-40 Years old</th>\n",
       "      <td>0.612403</td>\n",
       "      <td>0.387597</td>\n",
       "    </tr>\n",
       "    <tr>\n",
       "      <th>Group 5: 40-60 Years old</th>\n",
       "      <td>0.605839</td>\n",
       "      <td>0.394161</td>\n",
       "    </tr>\n",
       "    <tr>\n",
       "      <th>Group 6: &gt;= 60 Years old</th>\n",
       "      <td>0.709360</td>\n",
       "      <td>0.290640</td>\n",
       "    </tr>\n",
       "  </tbody>\n",
       "</table>\n",
       "</div>"
      ],
      "text/plain": [
       "Survived                         0         1\n",
       "Age_Group                                   \n",
       "Group 1: < 5 Years old    0.325000  0.675000\n",
       "Group 2: 5-10 Years old   0.500000  0.500000\n",
       "Group 3: 10-20 Years old  0.598039  0.401961\n",
       "Group 4: 20-40 Years old  0.612403  0.387597\n",
       "Group 5: 40-60 Years old  0.605839  0.394161\n",
       "Group 6: >= 60 Years old  0.709360  0.290640"
      ]
     },
     "execution_count": 14,
     "metadata": {},
     "output_type": "execute_result"
    },
    {
     "data": {
      "image/png": "[encoded data removed]",
      "text/plain": [
       "<Figure size 1080x504 with 1 Axes>"
      ]
     },
     "metadata": {},
     "output_type": "display_data"
    }
   ],
   "source": [
    "plt.figure(figsize=(15,7))\n",
    "sns.countplot(train['Age_Group'], hue=train['Survived'])\n",
    "pd.crosstab(train['Age_Group'],train['Survived'], normalize='index' )"
   ]
  },
  {
   "cell_type": "markdown",
   "metadata": {
    "_uuid": "1c30ed1890047667dc83a14bdc037c5121b3d969"
   },
   "source": [
    "### 3.5 Survived and number of Sibling and spouse\n",
    "\n",
    "sibsp: The dataset defines family relations in this way...\n",
    "* Sibling = brother, sister, stepbrother, stepsister\n",
    "* Spouse = husband, wife (mistresses and fiancés were ignored)\n",
    "\n",
    "(1) Most people do not have siblings or spouses on boat\n",
    "\n",
    "(2) People with 1 sibling or spouse has highest survival rate of 53.6%"
   ]
  },
  {
   "cell_type": "code",
   "execution_count": 15,
   "metadata": {
    "_uuid": "c2c64d8622859b3c3494fa81d5593cddc5499794"
   },
   "outputs": [
    {
     "data": {
      "text/plain": [
       "<matplotlib.axes._subplots.AxesSubplot at 0x1cb76c88940>"
      ]
     },
     "execution_count": 15,
     "metadata": {},
     "output_type": "execute_result"
    },
    {
     "data": {
      "image/png": "[encoded data removed]",
      "text/plain": [
       "<Figure size 432x288 with 1 Axes>"
      ]
     },
     "metadata": {},
     "output_type": "display_data"
    }
   ],
   "source": [
    "# Check the number of siblings and spouse\n",
    "sns.countplot(train['SibSp'])\n",
    "# Most people do not have siblings or spouses on boat"
   ]
  },
  {
   "cell_type": "code",
   "execution_count": 16,
   "metadata": {
    "_uuid": "a57b798870563ca9e01a7729ca7774711ece1c9d"
   },
   "outputs": [
    {
     "data": {
      "text/html": [
       "<div>\n",
       "<style scoped>\n",
       "    .dataframe tbody tr th:only-of-type {\n",
       "        vertical-align: middle;\n",
       "    }\n",
       "\n",
       "    .dataframe tbody tr th {\n",
       "        vertical-align: top;\n",
       "    }\n",
       "\n",
       "    .dataframe thead th {\n",
       "        text-align: right;\n",
       "    }\n",
       "</style>\n",
       "<table border=\"1\" class=\"dataframe\">\n",
       "  <thead>\n",
       "    <tr style=\"text-align: right;\">\n",
       "      <th>Survived</th>\n",
       "      <th>0</th>\n",
       "      <th>1</th>\n",
       "    </tr>\n",
       "    <tr>\n",
       "      <th>SibSp</th>\n",
       "      <th></th>\n",
       "      <th></th>\n",
       "    </tr>\n",
       "  </thead>\n",
       "  <tbody>\n",
       "    <tr>\n",
       "      <th>0</th>\n",
       "      <td>0.654605</td>\n",
       "      <td>0.345395</td>\n",
       "    </tr>\n",
       "    <tr>\n",
       "      <th>1</th>\n",
       "      <td>0.464115</td>\n",
       "      <td>0.535885</td>\n",
       "    </tr>\n",
       "    <tr>\n",
       "      <th>2</th>\n",
       "      <td>0.535714</td>\n",
       "      <td>0.464286</td>\n",
       "    </tr>\n",
       "    <tr>\n",
       "      <th>3</th>\n",
       "      <td>0.750000</td>\n",
       "      <td>0.250000</td>\n",
       "    </tr>\n",
       "    <tr>\n",
       "      <th>4</th>\n",
       "      <td>0.833333</td>\n",
       "      <td>0.166667</td>\n",
       "    </tr>\n",
       "    <tr>\n",
       "      <th>5</th>\n",
       "      <td>1.000000</td>\n",
       "      <td>0.000000</td>\n",
       "    </tr>\n",
       "    <tr>\n",
       "      <th>8</th>\n",
       "      <td>1.000000</td>\n",
       "      <td>0.000000</td>\n",
       "    </tr>\n",
       "  </tbody>\n",
       "</table>\n",
       "</div>"
      ],
      "text/plain": [
       "Survived         0         1\n",
       "SibSp                       \n",
       "0         0.654605  0.345395\n",
       "1         0.464115  0.535885\n",
       "2         0.535714  0.464286\n",
       "3         0.750000  0.250000\n",
       "4         0.833333  0.166667\n",
       "5         1.000000  0.000000\n",
       "8         1.000000  0.000000"
      ]
     },
     "execution_count": 16,
     "metadata": {},
     "output_type": "execute_result"
    },
    {
     "data": {
      "image/png": "[encoded data removed]",
      "text/plain": [
       "<Figure size 432x288 with 1 Axes>"
      ]
     },
     "metadata": {},
     "output_type": "display_data"
    }
   ],
   "source": [
    "sns.countplot(train['SibSp'], hue=train['Survived'])\n",
    "pd.crosstab(train['SibSp'], train['Survived'], normalize='index')"
   ]
  },
  {
   "cell_type": "markdown",
   "metadata": {
    "_uuid": "b46aa5aa04a51a071640c66accebe6b008d8292d"
   },
   "source": [
    "### 3.6 Survived and number of Parent/Child\n",
    "\n",
    "parch: The dataset defines family relations in this way...\n",
    "* Parent = mother, father\n",
    "* Child = daughter, son, stepdaughter, stepson\n",
    "Some children travelled only with a nanny, therefore parch=0 for them.\n",
    "\n",
    "(1) Most people do not bring parents or children"
   ]
  },
  {
   "cell_type": "code",
   "execution_count": 17,
   "metadata": {
    "_uuid": "0fc7900c4c4b265cb202d723b7751e68c8e05ce7"
   },
   "outputs": [
    {
     "name": "stdout",
     "output_type": "stream",
     "text": [
      "0    678\n",
      "1    118\n",
      "2     80\n",
      "5      5\n",
      "3      5\n",
      "4      4\n",
      "6      1\n",
      "Name: Parch, dtype: int64\n"
     ]
    },
    {
     "data": {
      "text/plain": [
       "<matplotlib.axes._subplots.AxesSubplot at 0x1cb76ccfb00>"
      ]
     },
     "execution_count": 17,
     "metadata": {},
     "output_type": "execute_result"
    },
    {
     "data": {
      "image/png": "[encoded data removed]",
      "text/plain": [
       "<Figure size 432x288 with 1 Axes>"
      ]
     },
     "metadata": {},
     "output_type": "display_data"
    }
   ],
   "source": [
    "# Check number of parents or children, \n",
    "print(train['Parch'].value_counts())\n",
    "sns.countplot(train['Parch'])\n",
    "# Most people do not bring parents or children"
   ]
  },
  {
   "cell_type": "code",
   "execution_count": 18,
   "metadata": {
    "_uuid": "e41dc63ad96ce600c723be363c0d5d4809511bfb"
   },
   "outputs": [
    {
     "data": {
      "text/html": [
       "<div>\n",
       "<style scoped>\n",
       "    .dataframe tbody tr th:only-of-type {\n",
       "        vertical-align: middle;\n",
       "    }\n",
       "\n",
       "    .dataframe tbody tr th {\n",
       "        vertical-align: top;\n",
       "    }\n",
       "\n",
       "    .dataframe thead th {\n",
       "        text-align: right;\n",
       "    }\n",
       "</style>\n",
       "<table border=\"1\" class=\"dataframe\">\n",
       "  <thead>\n",
       "    <tr style=\"text-align: right;\">\n",
       "      <th>Survived</th>\n",
       "      <th>0</th>\n",
       "      <th>1</th>\n",
       "    </tr>\n",
       "    <tr>\n",
       "      <th>Parch</th>\n",
       "      <th></th>\n",
       "      <th></th>\n",
       "    </tr>\n",
       "  </thead>\n",
       "  <tbody>\n",
       "    <tr>\n",
       "      <th>0</th>\n",
       "      <td>0.656342</td>\n",
       "      <td>0.343658</td>\n",
       "    </tr>\n",
       "    <tr>\n",
       "      <th>1</th>\n",
       "      <td>0.449153</td>\n",
       "      <td>0.550847</td>\n",
       "    </tr>\n",
       "    <tr>\n",
       "      <th>2</th>\n",
       "      <td>0.500000</td>\n",
       "      <td>0.500000</td>\n",
       "    </tr>\n",
       "    <tr>\n",
       "      <th>3</th>\n",
       "      <td>0.400000</td>\n",
       "      <td>0.600000</td>\n",
       "    </tr>\n",
       "    <tr>\n",
       "      <th>4</th>\n",
       "      <td>1.000000</td>\n",
       "      <td>0.000000</td>\n",
       "    </tr>\n",
       "    <tr>\n",
       "      <th>5</th>\n",
       "      <td>0.800000</td>\n",
       "      <td>0.200000</td>\n",
       "    </tr>\n",
       "    <tr>\n",
       "      <th>6</th>\n",
       "      <td>1.000000</td>\n",
       "      <td>0.000000</td>\n",
       "    </tr>\n",
       "  </tbody>\n",
       "</table>\n",
       "</div>"
      ],
      "text/plain": [
       "Survived         0         1\n",
       "Parch                       \n",
       "0         0.656342  0.343658\n",
       "1         0.449153  0.550847\n",
       "2         0.500000  0.500000\n",
       "3         0.400000  0.600000\n",
       "4         1.000000  0.000000\n",
       "5         0.800000  0.200000\n",
       "6         1.000000  0.000000"
      ]
     },
     "execution_count": 18,
     "metadata": {},
     "output_type": "execute_result"
    },
    {
     "data": {
      "image/png": "[encoded data removed]",
      "text/plain": [
       "<Figure size 432x288 with 1 Axes>"
      ]
     },
     "metadata": {},
     "output_type": "display_data"
    }
   ],
   "source": [
    "sns.countplot(train['Parch'], hue=train['Survived'])\n",
    "pd.crosstab(train['Parch'], train['Survived'], normalize='index')"
   ]
  },
  {
   "cell_type": "markdown",
   "metadata": {
    "_uuid": "0d11790c122944fbd6bed5c00131c565e010a8b1"
   },
   "source": [
    "### 3.7 Survived and Fare\n",
    "\n",
    "* Most of the Fare price are under 50\n",
    "* People with Fare price >50 are more likelily to survive than people with Fare price <50. This is consistent with the Pclass."
   ]
  },
  {
   "cell_type": "code",
   "execution_count": 19,
   "metadata": {
    "_uuid": "733bbf7d1cdfd23d36204460cb9e6d7800b7e3d1"
   },
   "outputs": [
    {
     "name": "stderr",
     "output_type": "stream",
     "text": [
      "C:\\Users\\zhang\\Anaconda3 new\\lib\\site-packages\\matplotlib\\axes\\_axes.py:6462: UserWarning: The 'normed' kwarg is deprecated, and has been replaced by the 'density' kwarg.\n",
      "  warnings.warn(\"The 'normed' kwarg is deprecated, and has been \"\n"
     ]
    },
    {
     "data": {
      "text/plain": [
       "<matplotlib.axes._subplots.AxesSubplot at 0x1cb76e27d30>"
      ]
     },
     "execution_count": 19,
     "metadata": {},
     "output_type": "execute_result"
    },
    {
     "data": {
      "image/png": "[encoded data removed]",
      "text/plain": [
       "<Figure size 432x288 with 1 Axes>"
      ]
     },
     "metadata": {},
     "output_type": "display_data"
    }
   ],
   "source": [
    "sns.distplot(train['Fare'], kde=False)"
   ]
  },
  {
   "cell_type": "code",
   "execution_count": 20,
   "metadata": {
    "_uuid": "3f843ab300ae0ecd32f6fb2524b6edcd6b05a7bd"
   },
   "outputs": [
    {
     "name": "stdout",
     "output_type": "stream",
     "text": [
      "0.0\n",
      "512.3292\n",
      "Survived     0    1\n",
      "Fare_Cat           \n",
      "C1: <50    497  233\n",
      "C2: <100    38   70\n",
      "C3: <200     8   25\n",
      "C4: <300     6   11\n",
      "C5: >=300    0    3\n",
      "Survived          0         1\n",
      "Fare_Cat                     \n",
      "C1: <50    0.680822  0.319178\n",
      "C2: <100   0.351852  0.648148\n",
      "C3: <200   0.242424  0.757576\n",
      "C4: <300   0.352941  0.647059\n",
      "C5: >=300  0.000000  1.000000\n"
     ]
    }
   ],
   "source": [
    "# Create categorical variables for Fare to check whether Survived has relationship with Fare Price\n",
    "print(train['Fare'].min())\n",
    "print(train['Fare'].max())\n",
    "def fare_cat(Fare):\n",
    "    if Fare<50:\n",
    "        return \"C1: <50\"\n",
    "    elif Fare<100:\n",
    "        return \"C2: <100\"\n",
    "    elif Fare<200:\n",
    "        return \"C3: <200\"\n",
    "    elif Fare<300:\n",
    "        return \"C4: <300\"\n",
    "    else:\n",
    "        return \"C5: >=300\"\n",
    "train['Fare_Cat']=train['Fare'].apply(fare_cat)\n",
    "print(pd.crosstab(train['Fare_Cat'], train['Survived']))\n",
    "print(pd.crosstab(train['Fare_Cat'], train['Survived'], normalize='index'))"
   ]
  },
  {
   "cell_type": "markdown",
   "metadata": {
    "_uuid": "6ce8417304953aec35cff8b2a222ddb973f825fa"
   },
   "source": [
    "### 3.8 Survived and Embarked\n",
    "\n",
    "Port of Embarkation \n",
    "* C = Cherbourg, \n",
    "* Q = Queenstown, \n",
    "* S = Southampton \n",
    "\n",
    "People embarked at Cherbourg has survival rate of 55% which is much higher than the other two ports. Possibly because people at Cherbourg are richer."
   ]
  },
  {
   "cell_type": "code",
   "execution_count": 21,
   "metadata": {
    "_uuid": "45dd0d63b5c0b809c1ea1d88666df7c523da6435"
   },
   "outputs": [
    {
     "data": {
      "text/html": [
       "<div>\n",
       "<style scoped>\n",
       "    .dataframe tbody tr th:only-of-type {\n",
       "        vertical-align: middle;\n",
       "    }\n",
       "\n",
       "    .dataframe tbody tr th {\n",
       "        vertical-align: top;\n",
       "    }\n",
       "\n",
       "    .dataframe thead th {\n",
       "        text-align: right;\n",
       "    }\n",
       "</style>\n",
       "<table border=\"1\" class=\"dataframe\">\n",
       "  <thead>\n",
       "    <tr style=\"text-align: right;\">\n",
       "      <th>Survived</th>\n",
       "      <th>0</th>\n",
       "      <th>1</th>\n",
       "    </tr>\n",
       "    <tr>\n",
       "      <th>Embarked</th>\n",
       "      <th></th>\n",
       "      <th></th>\n",
       "    </tr>\n",
       "  </thead>\n",
       "  <tbody>\n",
       "    <tr>\n",
       "      <th>C</th>\n",
       "      <td>0.446429</td>\n",
       "      <td>0.553571</td>\n",
       "    </tr>\n",
       "    <tr>\n",
       "      <th>Q</th>\n",
       "      <td>0.610390</td>\n",
       "      <td>0.389610</td>\n",
       "    </tr>\n",
       "    <tr>\n",
       "      <th>S</th>\n",
       "      <td>0.663043</td>\n",
       "      <td>0.336957</td>\n",
       "    </tr>\n",
       "  </tbody>\n",
       "</table>\n",
       "</div>"
      ],
      "text/plain": [
       "Survived         0         1\n",
       "Embarked                    \n",
       "C         0.446429  0.553571\n",
       "Q         0.610390  0.389610\n",
       "S         0.663043  0.336957"
      ]
     },
     "execution_count": 21,
     "metadata": {},
     "output_type": "execute_result"
    },
    {
     "data": {
      "image/png": "[encoded data removed]",
      "text/plain": [
       "<Figure size 432x288 with 1 Axes>"
      ]
     },
     "metadata": {},
     "output_type": "display_data"
    }
   ],
   "source": [
    "sns.countplot(train['Embarked'], hue=train['Survived'])\n",
    "pd.crosstab(train['Embarked'],train['Survived'], normalize='index')"
   ]
  },
  {
   "cell_type": "markdown",
   "metadata": {
    "_uuid": "440cafd8ea19db2f9494d83f3aa1a69b75d5ecce"
   },
   "source": [
    "### 3.9 Drop 'PassengerId', 'Name','Ticket' which seems not correlated with survival\n",
    "\n",
    "* Name, Ticket Number and PassengerId seems not correlated with Survived, we will drop them for now"
   ]
  },
  {
   "cell_type": "code",
   "execution_count": 22,
   "metadata": {
    "_uuid": "ef76f9c8a83268872fd4df25f043add55edf3ee5"
   },
   "outputs": [],
   "source": [
    "# Drop variables not correlated\n",
    "train.drop(['Name','Ticket','PassengerId'], axis=1, inplace=True)\n",
    "\n",
    "TestId=test['PassengerId']\n",
    "test.drop(['PassengerId', 'Name','Ticket'], axis=1, inplace=True)"
   ]
  },
  {
   "cell_type": "code",
   "execution_count": 23,
   "metadata": {
    "_uuid": "d8c7665859ecf7c109cfb515194129ae7b5bcf65"
   },
   "outputs": [],
   "source": [
    "train.drop(['Age_Group', 'Fare_Cat'], axis=1, inplace=True)"
   ]
  },
  {
   "cell_type": "markdown",
   "metadata": {
    "_uuid": "6f671b03c16c955a3d50c1cfe3f5fe42fb071007"
   },
   "source": [
    "1. First we will use the numeric Age and Fare in the model\n",
    "2. Next we will use the Age_Group and Fare_Cat"
   ]
  },
  {
   "cell_type": "markdown",
   "metadata": {
    "_uuid": "07491c6382eea25e974a0662997949224b09f8e2"
   },
   "source": [
    " ## Part 4: Check and impute missing values"
   ]
  },
  {
   "cell_type": "code",
   "execution_count": 24,
   "metadata": {
    "_uuid": "2383be246b331352730c6750ede018fb73e60de5"
   },
   "outputs": [
    {
     "data": {
      "text/plain": [
       "Cabin       0.771044\n",
       "Age         0.198653\n",
       "Embarked    0.002245\n",
       "dtype: float64"
      ]
     },
     "execution_count": 24,
     "metadata": {},
     "output_type": "execute_result"
    },
    {
     "data": {
      "image/png": "[encoded data removed]",
      "text/plain": [
       "<Figure size 432x288 with 1 Axes>"
      ]
     },
     "metadata": {},
     "output_type": "display_data"
    }
   ],
   "source": [
    "# use seaborn.heatmap to check NAN values\n",
    "sns.heatmap(train.isnull(),yticklabels=False,cbar=False,cmap='viridis')\n",
    "# From the heatmap, Age has some NAN values and most of the Cabin are missing, Embarked has few missing values\n",
    "# Check missing percentage\n",
    "train_nan_pct=((train.isnull().sum())/(train.isnull().count())).sort_values(ascending=False)\n",
    "train_nan_pct[train_nan_pct>0]"
   ]
  },
  {
   "cell_type": "code",
   "execution_count": 25,
   "metadata": {
    "_uuid": "3b3392eac384c79362cef0bd712d777acb9844c5"
   },
   "outputs": [],
   "source": [
    "# Drop the Cabin columns since too many NAN\n",
    "train.drop(['Cabin'], axis=1, inplace=True)\n",
    "\n",
    "# Since Age is skewed, impute with median\n",
    "train['Age'].fillna(train['Age'].median(), inplace=True)\n",
    "# Fill the numeric Embarked with mode\n",
    "train['Embarked'].fillna(train['Embarked'].mode()[0], inplace=True)"
   ]
  },
  {
   "cell_type": "code",
   "execution_count": 26,
   "metadata": {
    "_uuid": "8c2cc9035652299d104196328a65265c8470ea57"
   },
   "outputs": [
    {
     "data": {
      "text/plain": [
       "Cabin    0.782297\n",
       "Age      0.205742\n",
       "Fare     0.002392\n",
       "dtype: float64"
      ]
     },
     "execution_count": 26,
     "metadata": {},
     "output_type": "execute_result"
    },
    {
     "data": {
      "image/png": "[encoded data removed]",
      "text/plain": [
       "<Figure size 432x288 with 1 Axes>"
      ]
     },
     "metadata": {},
     "output_type": "display_data"
    }
   ],
   "source": [
    "# use seaborn.heatmap to check NAN values for test data\n",
    "sns.heatmap(test.isnull(),yticklabels=False,cbar=False,cmap='viridis')\n",
    "# From the heatmap, Age has some NAN values and most of the Cabin are missing, Fare has few missing values\n",
    "# Check missing percentage\n",
    "test_nan_pct=((test.isnull().sum())/(test.isnull().count())).sort_values(ascending=False)\n",
    "test_nan_pct[test_nan_pct>0]"
   ]
  },
  {
   "cell_type": "code",
   "execution_count": 27,
   "metadata": {
    "_uuid": "e360df5c9f98ebd937755e8b2e5d3e7544627f3c"
   },
   "outputs": [],
   "source": [
    "test.drop(['Cabin'], axis=1, inplace=True)\n",
    "test['Age'].fillna(test['Age'].median(), inplace=True)\n",
    "test['Fare'].fillna(test['Fare'].median(), inplace=True)\n",
    "\n",
    "# Check whether impute Age by Pclass will imporve prediction performance"
   ]
  },
  {
   "cell_type": "markdown",
   "metadata": {
    "_uuid": "ffc7159baaafb5a1b198e8e1e5eee8bd2a7c6a98",
    "collapsed": true
   },
   "source": [
    "## Part 5: Create dummy variables for categorical variables\n",
    "\n",
    "scipy.sklearn could not deal with categorical variables directly. So we need to first create dummy variables. We use drop_first=True to avoid multicolinearity"
   ]
  },
  {
   "cell_type": "code",
   "execution_count": 28,
   "metadata": {
    "_uuid": "8db62160a6a1c30949c471547a503930e7ac579f"
   },
   "outputs": [],
   "source": [
    "train=pd.get_dummies(train, drop_first=True)\n",
    "test=pd.get_dummies(test, drop_first=True)"
   ]
  },
  {
   "cell_type": "markdown",
   "metadata": {
    "_uuid": "fc177dc6647957d0454da58e46954b8f1bc50bf9",
    "collapsed": true
   },
   "source": [
    "## Part 6: Build Logistic Regression to predict survival\n",
    "\n",
    "Logistic regression is a classifical statistical model for classification and is good for intepretation. For logistic regression, we build the hypothesis function log((p(y=1|X))/(1-p(y=1|X)))=theta*X. So the probability of y=1 given X is p(y=1|X)=(exp(theta*X))/(1+exp(theta*X)). "
   ]
  },
  {
   "cell_type": "markdown",
   "metadata": {
    "_uuid": "28d034e8b3670dffc887f5681cb76b81d24a26ce"
   },
   "source": [
    "### 6.1 Train/validation split the train data set"
   ]
  },
  {
   "cell_type": "code",
   "execution_count": 29,
   "metadata": {
    "_uuid": "b7c62c861fad8a75d73089f5418230911810d833"
   },
   "outputs": [],
   "source": [
    "from sklearn.model_selection import train_test_split\n",
    "X_train, X_val, y_train, y_val=train_test_split(train.drop(['Survived'], axis=1), train['Survived'], test_size=0.3, random_state=100)"
   ]
  },
  {
   "cell_type": "markdown",
   "metadata": {
    "_uuid": "a9a1bd112faadc96c16c0ea283dec091ef3148e7",
    "collapsed": true
   },
   "source": [
    "### 6.2 Logistic Regression\n",
    "\n",
    "9565/score=0.74641"
   ]
  },
  {
   "cell_type": "code",
   "execution_count": 30,
   "metadata": {
    "_uuid": "6cd2fe88b31cc4feb416cbb30f674dc35fcaccba"
   },
   "outputs": [
    {
     "name": "stdout",
     "output_type": "stream",
     "text": [
      "10.0\n",
      "0.7910447761194029\n"
     ]
    },
    {
     "name": "stderr",
     "output_type": "stream",
     "text": [
      "C:\\Users\\zhang\\Anaconda3 new\\lib\\site-packages\\ipykernel_launcher.py:12: FutureWarning: 'argmax' is deprecated, use 'idxmax' instead. The behavior of 'argmax'\n",
      "will be corrected to return the positional maximum in the future.\n",
      "Use 'series.values.argmax' to get the position of the maximum now.\n",
      "  if sys.path[0] == '':\n"
     ]
    },
    {
     "data": {
      "image/png": "[encoded data removed]",
      "text/plain": [
       "<Figure size 432x288 with 1 Axes>"
      ]
     },
     "metadata": {},
     "output_type": "display_data"
    }
   ],
   "source": [
    "from sklearn.linear_model import LogisticRegression\n",
    "cs=[0.01, 0.03, 0.1, 0.3, 1, 3, 10, 30, 100, 300]\n",
    "score=[]\n",
    "from sklearn.metrics import accuracy_score, confusion_matrix, classification_report\n",
    "for c in cs:\n",
    "    lr=LogisticRegression(penalty='l2', dual=False, tol=0.0001, C=c, fit_intercept=True, intercept_scaling=1, class_weight=None)\n",
    "    lr.fit(X_train, y_train)\n",
    "    predicted=lr.predict(X_val)\n",
    "    score.append(accuracy_score(predicted, y_val))\n",
    "plt.scatter(x=cs, y=score)\n",
    "score=pd.Series(score, index=cs)\n",
    "print(score.argmax())\n",
    "print(score.max())\n"
   ]
  },
  {
   "cell_type": "code",
   "execution_count": 31,
   "metadata": {
    "_uuid": "9c3fe3e8c84c8d89a24030b49f0a85c26f16b827"
   },
   "outputs": [
    {
     "name": "stdout",
     "output_type": "stream",
     "text": [
      "6.0\n",
      "The best accuracy score is:  0.7910447761194029\n"
     ]
    },
    {
     "name": "stderr",
     "output_type": "stream",
     "text": [
      "C:\\Users\\zhang\\Anaconda3 new\\lib\\site-packages\\ipykernel_launcher.py:12: FutureWarning: 'argmax' is deprecated, use 'idxmax' instead. The behavior of 'argmax'\n",
      "will be corrected to return the positional maximum in the future.\n",
      "Use 'series.values.argmax' to get the position of the maximum now.\n",
      "  if sys.path[0] == '':\n"
     ]
    },
    {
     "data": {
      "image/png": "[encoded data removed]",
      "text/plain": [
       "<Figure size 432x288 with 1 Axes>"
      ]
     },
     "metadata": {},
     "output_type": "display_data"
    }
   ],
   "source": [
    "from sklearn.linear_model import LogisticRegression\n",
    "cs=np.arange(6,12, 0.2)\n",
    "score=[]\n",
    "from sklearn.metrics import accuracy_score, confusion_matrix, classification_report\n",
    "for c in cs:\n",
    "    lr=LogisticRegression(penalty='l1', dual=False, tol=0.0001, C=c, fit_intercept=True, intercept_scaling=1, class_weight=None)\n",
    "    lr.fit(X_train, y_train)\n",
    "    predicted=lr.predict(X_val)\n",
    "    score.append(accuracy_score(predicted, y_val))\n",
    "plt.scatter(x=cs, y=score)\n",
    "score=pd.Series(score, index=cs)\n",
    "print(score.argmax())\n",
    "print(\"The best accuracy score is: \", score.max())"
   ]
  },
  {
   "cell_type": "code",
   "execution_count": 32,
   "metadata": {
    "_uuid": "6e5a560c0133a08fcf79051047e2846e275c02f9"
   },
   "outputs": [],
   "source": [
    "lr=LogisticRegression(penalty='l2', dual=False, tol=0.0001, C=6, fit_intercept=True, intercept_scaling=1, class_weight=None)\n",
    "lr.fit(train.drop(['Survived'], axis=1), train['Survived'])\n",
    "test_predicted=lr.predict(test)"
   ]
  },
  {
   "cell_type": "code",
   "execution_count": 33,
   "metadata": {
    "_uuid": "6b837a0e775be65018342802628ec8d3d88cf76f"
   },
   "outputs": [],
   "source": [
    "submission=pd.DataFrame()\n",
    "submission['PassengerId']=TestId\n",
    "submission['Survived']=test_predicted\n",
    "submission.to_csv('submission.csv', index=False)"
   ]
  },
  {
   "cell_type": "markdown",
   "metadata": {
    "_uuid": "f32a95c1c7d40102057a4eeec34991564c23d556",
    "collapsed": true
   },
   "source": [
    "## Part 7. SVM classifier"
   ]
  },
  {
   "cell_type": "markdown",
   "metadata": {
    "_uuid": "31c74cb56c6e192cb80e93ef78b2239bcdaae1c8"
   },
   "source": [
    "### 7.1 Normalize the numeric features"
   ]
  },
  {
   "cell_type": "code",
   "execution_count": 34,
   "metadata": {
    "_uuid": "edfab2e67d41d53e464a46329b9dc437dfafbcc9"
   },
   "outputs": [
    {
     "data": {
      "text/plain": [
       "array([[-0.56573646, -0.50244517],\n",
       "       [ 0.66386103,  0.78684529],\n",
       "       [-0.25833709, -0.48885426],\n",
       "       ...,\n",
       "       [-0.1046374 , -0.17626324],\n",
       "       [-0.25833709, -0.04438104],\n",
       "       [ 0.20276197, -0.49237783]])"
      ]
     },
     "execution_count": 34,
     "metadata": {},
     "output_type": "execute_result"
    }
   ],
   "source": [
    "from sklearn.preprocessing import StandardScaler\n",
    "scaler=StandardScaler(copy=True, with_mean=True, with_std=True)\n",
    "sub_features=train[['Age','Fare']]\n",
    "sub_features\n",
    "scaler.fit(sub_features)\n",
    "scaler.fit_transform(sub_features)"
   ]
  },
  {
   "cell_type": "code",
   "execution_count": 35,
   "metadata": {
    "_uuid": "6eb87b9317307f8e390e89dd4cfbaf3bad6abe07"
   },
   "outputs": [],
   "source": [
    "train[['Age','Fare']]=scaler.fit_transform(sub_features)"
   ]
  },
  {
   "cell_type": "code",
   "execution_count": 36,
   "metadata": {
    "_uuid": "58473bf924a98430cd8cd89ed7a62cd87db3993c"
   },
   "outputs": [],
   "source": [
    "from sklearn.model_selection import train_test_split\n",
    "X_train, X_val, y_train, y_val=train_test_split(train.drop(['Survived'], axis=1), train['Survived'], test_size=0.3, random_state=100)"
   ]
  },
  {
   "cell_type": "markdown",
   "metadata": {
    "_uuid": "a2f72a14e82d718a4affab53699508a6dd9ead99"
   },
   "source": [
    "### 7.2 Build simple SVC model\n",
    "\n",
    "Given a set of training examples, each marked as belonging to one or the other of two categories, an SVM training algorithm builds a model that assigns new examples to one category or the other, making it a non-probabilistic binary linear classifier (although methods such as Platt scaling exist to use SVM in a probabilistic classification setting). An SVM model is a representation of the examples as points in space, mapped so that the examples of the separate categories are divided by a clear gap that is as wide as possible. New examples are then mapped into that same space and predicted to belong to a category based on which side of the gap they fall.\n",
    "\n",
    "In addition to performing linear classification, SVMs can efficiently perform a non-linear classification using what is called the kernel trick, implicitly mapping their inputs into high-dimensional feature spaces."
   ]
  },
  {
   "cell_type": "code",
   "execution_count": 37,
   "metadata": {
    "_uuid": "2eb53220fe1e0ea5250f13f8df1b8dd9dbcaea67"
   },
   "outputs": [
    {
     "data": {
      "text/plain": [
       "SVC(C=1, cache_size=200, class_weight=None, coef0=0.0,\n",
       "  decision_function_shape='ovr', degree=3, gamma='auto', kernel='rbf',\n",
       "  max_iter=-1, probability=False, random_state=None, shrinking=True,\n",
       "  tol=0.001, verbose=False)"
      ]
     },
     "execution_count": 37,
     "metadata": {},
     "output_type": "execute_result"
    }
   ],
   "source": [
    "from sklearn.svm import SVC\n",
    "svc=SVC(C=1, kernel='rbf', tol=0.001)\n",
    "svc.fit(X_train, y_train)"
   ]
  },
  {
   "cell_type": "markdown",
   "metadata": {
    "_uuid": "69a62033be4a1a58e2eaa836dd0ea026f241c9b1"
   },
   "source": [
    "### 7.2 Model evaluation"
   ]
  },
  {
   "cell_type": "code",
   "execution_count": 38,
   "metadata": {
    "_uuid": "f8c8bb53cbb94b1c7f4e4ef66c35ef8e37e53351"
   },
   "outputs": [
    {
     "name": "stdout",
     "output_type": "stream",
     "text": [
      "[[143  16]\n",
      " [ 33  76]]\n",
      "\n",
      "\n",
      "             precision    recall  f1-score   support\n",
      "\n",
      "          0       0.81      0.90      0.85       159\n",
      "          1       0.83      0.70      0.76       109\n",
      "\n",
      "avg / total       0.82      0.82      0.81       268\n",
      "\n",
      "\n",
      "\n",
      "Accuracy score is:  0.8171641791044776\n"
     ]
    }
   ],
   "source": [
    "predicted=svc.predict(X_val)\n",
    "print(confusion_matrix(y_val, predicted))\n",
    "print('\\n')\n",
    "print(classification_report(y_val, predicted))\n",
    "print('\\n')\n",
    "print('Accuracy score is: ', accuracy_score(y_val, predicted))\n",
    "# The accuracy score is not good by using the above parameters. We will tune the hyperparameters using GridSearchCV"
   ]
  },
  {
   "cell_type": "markdown",
   "metadata": {
    "_uuid": "6a427dc5feb5f7c12c689578fdda5c67070aa88f"
   },
   "source": [
    "### 7.3 GridSearchcv to tune hyperparameters\n",
    "\n",
    "* GridSearchCV exhaustive search over specified parameter values for an estimator."
   ]
  },
  {
   "cell_type": "code",
   "execution_count": 39,
   "metadata": {
    "_uuid": "64bb5a1204a2d2726ee8224a69c0a2e8a6dea393"
   },
   "outputs": [
    {
     "name": "stdout",
     "output_type": "stream",
     "text": [
      "Fitting 3 folds for each of 60 candidates, totalling 180 fits\n"
     ]
    },
    {
     "name": "stderr",
     "output_type": "stream",
     "text": [
      "[Parallel(n_jobs=1)]: Done 180 out of 180 | elapsed:    4.9s finished\n"
     ]
    },
    {
     "data": {
      "text/plain": [
       "GridSearchCV(cv=None, error_score='raise',\n",
       "       estimator=SVC(C=1.0, cache_size=200, class_weight=None, coef0=0.0,\n",
       "  decision_function_shape='ovr', degree=3, gamma='auto', kernel='rbf',\n",
       "  max_iter=-1, probability=False, random_state=None, shrinking=True,\n",
       "  tol=0.001, verbose=False),\n",
       "       fit_params=None, iid=True, n_jobs=1,\n",
       "       param_grid={'C': [0.01, 0.03, 0.1, 0.3, 1, 3, 10, 30, 100, 300], 'kernel': ['rbf'], 'gamma': [10, 1, 0.1, 0.01, 0.001, 0.0001]},\n",
       "       pre_dispatch='2*n_jobs', refit=True, return_train_score='warn',\n",
       "       scoring='accuracy', verbose=1)"
      ]
     },
     "execution_count": 39,
     "metadata": {},
     "output_type": "execute_result"
    }
   ],
   "source": [
    "# Create a dictionary called param_grid and fill out some parameters for C and gamma.\n",
    "# 'gamma':auto has  aaccuracy score of 0.8260\n",
    "#param_grid = {'C': [0.01, 0.03, 0.1, 0.3, 1, 3, 10, 30, 100, 300], 'kernel': ['rbf'], 'gamma':['auto']}\n",
    "# 'gamma':[0.1] has better aaccuracy of 0.8271\n",
    "param_grid = {'C': [0.01, 0.03, 0.1, 0.3, 1, 3, 10, 30, 100, 300], 'kernel': ['rbf'], 'gamma': [10,1,0.1,0.01,0.001,0.0001]}\n",
    "\n",
    "from sklearn.model_selection import GridSearchCV\n",
    "# we can specify scoring='accuracy' (default), 'precision', 'f1', 'recall' to choose parameters\n",
    "grid=GridSearchCV(SVC(), param_grid, verbose=1,  scoring='accuracy', refit=True)\n",
    "grid.fit(train.drop(['Survived'], axis=1), train['Survived'])"
   ]
  },
  {
   "cell_type": "code",
   "execution_count": 40,
   "metadata": {
    "_uuid": "f1ab2c2f20b10243093c8676f6ec1d2b04761029"
   },
   "outputs": [
    {
     "name": "stdout",
     "output_type": "stream",
     "text": [
      "{'C': 3, 'gamma': 0.1, 'kernel': 'rbf'}\n",
      "SVC(C=3, cache_size=200, class_weight=None, coef0=0.0,\n",
      "  decision_function_shape='ovr', degree=3, gamma=0.1, kernel='rbf',\n",
      "  max_iter=-1, probability=False, random_state=None, shrinking=True,\n",
      "  tol=0.001, verbose=False)\n",
      "Mean cross-validated score of the best_estimator:  0.8271604938271605\n",
      "The number of cross-validation splits (folds/iterations):  3\n"
     ]
    }
   ],
   "source": [
    "# The best hyperparameters chosen is\n",
    "print(grid.best_params_)\n",
    "print(grid.best_estimator_)\n",
    "print('Mean cross-validated score of the best_estimator: ', grid.best_score_)\n",
    "print('The number of cross-validation splits (folds/iterations): ', grid.n_splits_)"
   ]
  },
  {
   "cell_type": "code",
   "execution_count": 41,
   "metadata": {
    "_uuid": "04bbabc008caed3b8ccba548c81d09872137ffe6"
   },
   "outputs": [
    {
     "name": "stdout",
     "output_type": "stream",
     "text": [
      "Fitting 3 folds for each of 285 candidates, totalling 855 fits\n",
      "{'C': 9, 'gamma': 0.05, 'kernel': 'rbf'}\n",
      "SVC(C=9, cache_size=200, class_weight=None, coef0=0.0,\n",
      "  decision_function_shape='ovr', degree=3, gamma=0.05, kernel='rbf',\n",
      "  max_iter=-1, probability=False, random_state=None, shrinking=True,\n",
      "  tol=0.001, verbose=False)\n",
      "Mean cross-validated score of the best_estimator:  0.8316498316498316\n",
      "The number of cross-validation splits (folds/iterations):  3\n"
     ]
    },
    {
     "name": "stderr",
     "output_type": "stream",
     "text": [
      "[Parallel(n_jobs=1)]: Done 855 out of 855 | elapsed:   21.0s finished\n"
     ]
    }
   ],
   "source": [
    "# Re-tune the hyperparameters based on previous results C=9, gamma=0.05, 0.8316498316498316\n",
    "param_grid = {'C': np.arange(1,20), 'kernel': ['rbf'], 'gamma': [0.01,0.03,0.04, 0.05, 0.06, 0.07, 0.1,0.13,0.15,0.17,0.2,0.23,0.25,0.27,0.3]}\n",
    "\n",
    "from sklearn.model_selection import GridSearchCV\n",
    "# we can specify scoring='accuracy' (default), 'precision', 'f1', 'recall' to choose parameters\n",
    "grid=GridSearchCV(SVC(), param_grid, verbose=1,  scoring='accuracy', refit=True)\n",
    "grid.fit(train.drop(['Survived'], axis=1), train['Survived'])\n",
    "\n",
    "# The best hyperparameters chosen is\n",
    "print(grid.best_params_)\n",
    "print(grid.best_estimator_)\n",
    "print('Mean cross-validated score of the best_estimator: ', grid.best_score_)\n",
    "print('The number of cross-validation splits (folds/iterations): ', grid.n_splits_)"
   ]
  },
  {
   "cell_type": "markdown",
   "metadata": {
    "_uuid": "aaed3a074ec50cf05e6a0a0b0d2ed04c60e6edf9"
   },
   "source": [
    "### Use all training data to fit model with the best parameters\n",
    "{'C': 9, 'gamma': 0.05, 'kernel': 'rbf'}\n"
   ]
  },
  {
   "cell_type": "markdown",
   "metadata": {
    "_uuid": "6ab62acf39b56e830beebdc9cdfb99d319ddcac0"
   },
   "source": [
    "### Normalize the test features"
   ]
  },
  {
   "cell_type": "code",
   "execution_count": 42,
   "metadata": {
    "_uuid": "107325fd26bc9f28f89cb5ab758114f33ee93556"
   },
   "outputs": [],
   "source": [
    "test_sub_features=test[['Age','Fare']]\n",
    "test_sub_features\n",
    "scaler.fit(test_sub_features)\n",
    "scaler.fit_transform(test_sub_features)\n",
    "test[['Age','Fare']]=scaler.fit_transform(test_sub_features)"
   ]
  },
  {
   "cell_type": "code",
   "execution_count": 43,
   "metadata": {
    "_uuid": "d455b055ca28bf452928c9394d903f7a13671f65"
   },
   "outputs": [
    {
     "data": {
      "text/html": [
       "<div>\n",
       "<style scoped>\n",
       "    .dataframe tbody tr th:only-of-type {\n",
       "        vertical-align: middle;\n",
       "    }\n",
       "\n",
       "    .dataframe tbody tr th {\n",
       "        vertical-align: top;\n",
       "    }\n",
       "\n",
       "    .dataframe thead th {\n",
       "        text-align: right;\n",
       "    }\n",
       "</style>\n",
       "<table border=\"1\" class=\"dataframe\">\n",
       "  <thead>\n",
       "    <tr style=\"text-align: right;\">\n",
       "      <th></th>\n",
       "      <th>Pclass</th>\n",
       "      <th>Age</th>\n",
       "      <th>SibSp</th>\n",
       "      <th>Parch</th>\n",
       "      <th>Fare</th>\n",
       "      <th>Sex_male</th>\n",
       "      <th>Embarked_Q</th>\n",
       "      <th>Embarked_S</th>\n",
       "    </tr>\n",
       "  </thead>\n",
       "  <tbody>\n",
       "    <tr>\n",
       "      <th>0</th>\n",
       "      <td>3</td>\n",
       "      <td>0.386231</td>\n",
       "      <td>0</td>\n",
       "      <td>0</td>\n",
       "      <td>-0.497413</td>\n",
       "      <td>1</td>\n",
       "      <td>1</td>\n",
       "      <td>0</td>\n",
       "    </tr>\n",
       "    <tr>\n",
       "      <th>1</th>\n",
       "      <td>3</td>\n",
       "      <td>1.371370</td>\n",
       "      <td>1</td>\n",
       "      <td>0</td>\n",
       "      <td>-0.512278</td>\n",
       "      <td>0</td>\n",
       "      <td>0</td>\n",
       "      <td>1</td>\n",
       "    </tr>\n",
       "    <tr>\n",
       "      <th>2</th>\n",
       "      <td>2</td>\n",
       "      <td>2.553537</td>\n",
       "      <td>0</td>\n",
       "      <td>0</td>\n",
       "      <td>-0.464100</td>\n",
       "      <td>1</td>\n",
       "      <td>1</td>\n",
       "      <td>0</td>\n",
       "    </tr>\n",
       "    <tr>\n",
       "      <th>3</th>\n",
       "      <td>3</td>\n",
       "      <td>-0.204852</td>\n",
       "      <td>0</td>\n",
       "      <td>0</td>\n",
       "      <td>-0.482475</td>\n",
       "      <td>1</td>\n",
       "      <td>0</td>\n",
       "      <td>1</td>\n",
       "    </tr>\n",
       "    <tr>\n",
       "      <th>4</th>\n",
       "      <td>3</td>\n",
       "      <td>-0.598908</td>\n",
       "      <td>1</td>\n",
       "      <td>1</td>\n",
       "      <td>-0.417492</td>\n",
       "      <td>0</td>\n",
       "      <td>0</td>\n",
       "      <td>1</td>\n",
       "    </tr>\n",
       "  </tbody>\n",
       "</table>\n",
       "</div>"
      ],
      "text/plain": [
       "   Pclass       Age  SibSp  Parch      Fare  Sex_male  Embarked_Q  Embarked_S\n",
       "0       3  0.386231      0      0 -0.497413         1           1           0\n",
       "1       3  1.371370      1      0 -0.512278         0           0           1\n",
       "2       2  2.553537      0      0 -0.464100         1           1           0\n",
       "3       3 -0.204852      0      0 -0.482475         1           0           1\n",
       "4       3 -0.598908      1      1 -0.417492         0           0           1"
      ]
     },
     "execution_count": 43,
     "metadata": {},
     "output_type": "execute_result"
    }
   ],
   "source": [
    "test.head()"
   ]
  },
  {
   "cell_type": "code",
   "execution_count": 44,
   "metadata": {
    "_uuid": "edc8c9a2cf60ae975a8f4331d782c9bb8eb2ef59"
   },
   "outputs": [],
   "source": [
    "svc=SVC(C=9, gamma=0.05, kernel='rbf', tol=0.001)\n",
    "svc.fit(train.drop(['Survived'], axis=1), train['Survived'])\n",
    "test_predicted=svc.predict(test)\n",
    "submission=pd.DataFrame()\n",
    "submission['PassengerId']=TestId\n",
    "submission['Survived']=test_predicted\n",
    "submission.to_csv('submission.csv', index=False)"
   ]
  }
 ],
 "metadata": {
  "kernelspec": {
   "display_name": "Python 3",
   "language": "python",
   "name": "python3"
  },
  "language_info": {
   "codemirror_mode": {
    "name": "ipython",
    "version": 3
   },
   "file_extension": ".py",
   "mimetype": "text/x-python",
   "name": "python",
   "nbconvert_exporter": "python",
   "pygments_lexer": "ipython3",
   "version": "3.6.5"
  }
 },
 "nbformat": 4,
 "nbformat_minor": 1
}
