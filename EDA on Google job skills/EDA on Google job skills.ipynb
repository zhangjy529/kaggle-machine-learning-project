{
 "cells": [
  {
   "cell_type": "code",
   "execution_count": 1,
   "metadata": {
    "_cell_guid": "79c7e3d0-c299-4dcb-8224-4455121ee9b0",
    "_uuid": "d629ff2d2480ee46fbb7e2d37f6b5fab8052498a"
   },
   "outputs": [],
   "source": [
    "import numpy as np\n",
    "import pandas as pd\n",
    "import matplotlib.pyplot as plt\n",
    "%matplotlib inline\n",
    "import seaborn as sns\n",
    "sns.set_style(\"whitegrid\")\n",
    "import scipy.stats as stats\n",
    "import re"
   ]
  },
  {
   "cell_type": "markdown",
   "metadata": {
    "_uuid": "f7a1cd598cb52751fa4b1809155e313a1fb0f5fd"
   },
   "source": [
    "## Part 2: Import the raw data and check data"
   ]
  },
  {
   "cell_type": "code",
   "execution_count": 2,
   "metadata": {
    "_uuid": "34921106468b143eaadaa3c655a9892c22e1edb5"
   },
   "outputs": [],
   "source": [
    "skills=pd.read_csv('job_skills.csv')"
   ]
  },
  {
   "cell_type": "code",
   "execution_count": 3,
   "metadata": {
    "_uuid": "9094c5586b9bde14a4d5100395e4787bcbed98d9"
   },
   "outputs": [
    {
     "data": {
      "text/html": [
       "<div>\n",
       "<style scoped>\n",
       "    .dataframe tbody tr th:only-of-type {\n",
       "        vertical-align: middle;\n",
       "    }\n",
       "\n",
       "    .dataframe tbody tr th {\n",
       "        vertical-align: top;\n",
       "    }\n",
       "\n",
       "    .dataframe thead th {\n",
       "        text-align: right;\n",
       "    }\n",
       "</style>\n",
       "<table border=\"1\" class=\"dataframe\">\n",
       "  <thead>\n",
       "    <tr style=\"text-align: right;\">\n",
       "      <th></th>\n",
       "      <th>Company</th>\n",
       "      <th>Title</th>\n",
       "      <th>Category</th>\n",
       "      <th>Location</th>\n",
       "      <th>Responsibilities</th>\n",
       "      <th>Minimum Qualifications</th>\n",
       "      <th>Preferred Qualifications</th>\n",
       "    </tr>\n",
       "  </thead>\n",
       "  <tbody>\n",
       "    <tr>\n",
       "      <th>0</th>\n",
       "      <td>Google</td>\n",
       "      <td>Google Cloud Program Manager</td>\n",
       "      <td>Program Management</td>\n",
       "      <td>Singapore</td>\n",
       "      <td>Shape, shepherd, ship, and show technical prog...</td>\n",
       "      <td>BA/BS degree or equivalent practical experienc...</td>\n",
       "      <td>Experience in the business technology market a...</td>\n",
       "    </tr>\n",
       "    <tr>\n",
       "      <th>1</th>\n",
       "      <td>Google</td>\n",
       "      <td>Supplier Development Engineer (SDE), Cable/Con...</td>\n",
       "      <td>Manufacturing &amp; Supply Chain</td>\n",
       "      <td>Shanghai, China</td>\n",
       "      <td>Drive cross-functional activities in the suppl...</td>\n",
       "      <td>BS degree in an Engineering discipline or equi...</td>\n",
       "      <td>BSEE, BSME or BSIE degree.\\nExperience of usin...</td>\n",
       "    </tr>\n",
       "    <tr>\n",
       "      <th>2</th>\n",
       "      <td>Google</td>\n",
       "      <td>Data Analyst, Product and Tools Operations, Go...</td>\n",
       "      <td>Technical Solutions</td>\n",
       "      <td>New York, NY, United States</td>\n",
       "      <td>Collect and analyze data to draw insight and i...</td>\n",
       "      <td>Bachelor’s degree in Business, Economics, Stat...</td>\n",
       "      <td>Experience partnering or consulting cross-func...</td>\n",
       "    </tr>\n",
       "    <tr>\n",
       "      <th>3</th>\n",
       "      <td>Google</td>\n",
       "      <td>Developer Advocate, Partner Engineering</td>\n",
       "      <td>Developer Relations</td>\n",
       "      <td>Mountain View, CA, United States</td>\n",
       "      <td>Work one-on-one with the top Android, iOS, and...</td>\n",
       "      <td>BA/BS degree in Computer Science or equivalent...</td>\n",
       "      <td>Experience as a software developer, architect,...</td>\n",
       "    </tr>\n",
       "    <tr>\n",
       "      <th>4</th>\n",
       "      <td>Google</td>\n",
       "      <td>Program Manager, Audio Visual (AV) Deployments</td>\n",
       "      <td>Program Management</td>\n",
       "      <td>Sunnyvale, CA, United States</td>\n",
       "      <td>Plan requirements with internal customers.\\nPr...</td>\n",
       "      <td>BA/BS degree or equivalent practical experienc...</td>\n",
       "      <td>CTS Certification.\\nExperience in the construc...</td>\n",
       "    </tr>\n",
       "  </tbody>\n",
       "</table>\n",
       "</div>"
      ],
      "text/plain": [
       "  Company                                              Title  \\\n",
       "0  Google                       Google Cloud Program Manager   \n",
       "1  Google  Supplier Development Engineer (SDE), Cable/Con...   \n",
       "2  Google  Data Analyst, Product and Tools Operations, Go...   \n",
       "3  Google            Developer Advocate, Partner Engineering   \n",
       "4  Google     Program Manager, Audio Visual (AV) Deployments   \n",
       "\n",
       "                       Category                          Location  \\\n",
       "0            Program Management                         Singapore   \n",
       "1  Manufacturing & Supply Chain                   Shanghai, China   \n",
       "2           Technical Solutions       New York, NY, United States   \n",
       "3           Developer Relations  Mountain View, CA, United States   \n",
       "4            Program Management      Sunnyvale, CA, United States   \n",
       "\n",
       "                                    Responsibilities  \\\n",
       "0  Shape, shepherd, ship, and show technical prog...   \n",
       "1  Drive cross-functional activities in the suppl...   \n",
       "2  Collect and analyze data to draw insight and i...   \n",
       "3  Work one-on-one with the top Android, iOS, and...   \n",
       "4  Plan requirements with internal customers.\\nPr...   \n",
       "\n",
       "                              Minimum Qualifications  \\\n",
       "0  BA/BS degree or equivalent practical experienc...   \n",
       "1  BS degree in an Engineering discipline or equi...   \n",
       "2  Bachelor’s degree in Business, Economics, Stat...   \n",
       "3  BA/BS degree in Computer Science or equivalent...   \n",
       "4  BA/BS degree or equivalent practical experienc...   \n",
       "\n",
       "                            Preferred Qualifications  \n",
       "0  Experience in the business technology market a...  \n",
       "1  BSEE, BSME or BSIE degree.\\nExperience of usin...  \n",
       "2  Experience partnering or consulting cross-func...  \n",
       "3  Experience as a software developer, architect,...  \n",
       "4  CTS Certification.\\nExperience in the construc...  "
      ]
     },
     "execution_count": 3,
     "metadata": {},
     "output_type": "execute_result"
    }
   ],
   "source": [
    "# Use .head() and .tail() to check the first and last five observations\n",
    "skills.head()"
   ]
  },
  {
   "cell_type": "code",
   "execution_count": 4,
   "metadata": {
    "_uuid": "76f83b96bd1ba3104a329d4bac058d8216ba7853"
   },
   "outputs": [
    {
     "data": {
      "text/html": [
       "<div>\n",
       "<style scoped>\n",
       "    .dataframe tbody tr th:only-of-type {\n",
       "        vertical-align: middle;\n",
       "    }\n",
       "\n",
       "    .dataframe tbody tr th {\n",
       "        vertical-align: top;\n",
       "    }\n",
       "\n",
       "    .dataframe thead th {\n",
       "        text-align: right;\n",
       "    }\n",
       "</style>\n",
       "<table border=\"1\" class=\"dataframe\">\n",
       "  <thead>\n",
       "    <tr style=\"text-align: right;\">\n",
       "      <th></th>\n",
       "      <th>Company</th>\n",
       "      <th>Title</th>\n",
       "      <th>Category</th>\n",
       "      <th>Location</th>\n",
       "      <th>Responsibilities</th>\n",
       "      <th>Minimum Qualifications</th>\n",
       "      <th>Preferred Qualifications</th>\n",
       "    </tr>\n",
       "  </thead>\n",
       "  <tbody>\n",
       "    <tr>\n",
       "      <th>1245</th>\n",
       "      <td>Google</td>\n",
       "      <td>Global Investigator</td>\n",
       "      <td>Real Estate &amp; Workplace Services</td>\n",
       "      <td>Boulder, CO, United States</td>\n",
       "      <td>Develop protocols and practices to assess and ...</td>\n",
       "      <td>BA/BS degree or equivalent practical experienc...</td>\n",
       "      <td>Investigative or Interview certification throu...</td>\n",
       "    </tr>\n",
       "    <tr>\n",
       "      <th>1246</th>\n",
       "      <td>Google</td>\n",
       "      <td>Campus Security Manager</td>\n",
       "      <td>Real Estate &amp; Workplace Services</td>\n",
       "      <td>Boulder, CO, United States</td>\n",
       "      <td>Manage the daily operations of the security ve...</td>\n",
       "      <td>BA/BS degree or equivalent practical experienc...</td>\n",
       "      <td>Master’s degree.\\nProficient in the use of com...</td>\n",
       "    </tr>\n",
       "    <tr>\n",
       "      <th>1247</th>\n",
       "      <td>Google</td>\n",
       "      <td>Facilities Manager</td>\n",
       "      <td>Real Estate &amp; Workplace Services</td>\n",
       "      <td>Xinyi District, Taiwan</td>\n",
       "      <td>Collaborate with functional teams; plan and ma...</td>\n",
       "      <td>BA/BS degree or equivalent practical experienc...</td>\n",
       "      <td>Experience managing outsourced facilities serv...</td>\n",
       "    </tr>\n",
       "    <tr>\n",
       "      <th>1248</th>\n",
       "      <td>Google</td>\n",
       "      <td>Physical Security Manager</td>\n",
       "      <td>Real Estate &amp; Workplace Services</td>\n",
       "      <td>Tel Aviv-Yafo, Israel</td>\n",
       "      <td>Partner closely with and offer guidance and co...</td>\n",
       "      <td>BA/BS degree or equivalent practical experienc...</td>\n",
       "      <td>Experience working on international programs.\\...</td>\n",
       "    </tr>\n",
       "    <tr>\n",
       "      <th>1249</th>\n",
       "      <td>Google</td>\n",
       "      <td>Physical Security Manager</td>\n",
       "      <td>Real Estate &amp; Workplace Services</td>\n",
       "      <td>Wrocław, Poland</td>\n",
       "      <td>Partner closely with and offer guidance and co...</td>\n",
       "      <td>BA/BS degree or equivalent practical experienc...</td>\n",
       "      <td>Experience working on international programs.\\...</td>\n",
       "    </tr>\n",
       "  </tbody>\n",
       "</table>\n",
       "</div>"
      ],
      "text/plain": [
       "     Company                      Title                          Category  \\\n",
       "1245  Google        Global Investigator  Real Estate & Workplace Services   \n",
       "1246  Google    Campus Security Manager  Real Estate & Workplace Services   \n",
       "1247  Google         Facilities Manager  Real Estate & Workplace Services   \n",
       "1248  Google  Physical Security Manager  Real Estate & Workplace Services   \n",
       "1249  Google  Physical Security Manager  Real Estate & Workplace Services   \n",
       "\n",
       "                        Location  \\\n",
       "1245  Boulder, CO, United States   \n",
       "1246  Boulder, CO, United States   \n",
       "1247      Xinyi District, Taiwan   \n",
       "1248       Tel Aviv-Yafo, Israel   \n",
       "1249             Wrocław, Poland   \n",
       "\n",
       "                                       Responsibilities  \\\n",
       "1245  Develop protocols and practices to assess and ...   \n",
       "1246  Manage the daily operations of the security ve...   \n",
       "1247  Collaborate with functional teams; plan and ma...   \n",
       "1248  Partner closely with and offer guidance and co...   \n",
       "1249  Partner closely with and offer guidance and co...   \n",
       "\n",
       "                                 Minimum Qualifications  \\\n",
       "1245  BA/BS degree or equivalent practical experienc...   \n",
       "1246  BA/BS degree or equivalent practical experienc...   \n",
       "1247  BA/BS degree or equivalent practical experienc...   \n",
       "1248  BA/BS degree or equivalent practical experienc...   \n",
       "1249  BA/BS degree or equivalent practical experienc...   \n",
       "\n",
       "                               Preferred Qualifications  \n",
       "1245  Investigative or Interview certification throu...  \n",
       "1246  Master’s degree.\\nProficient in the use of com...  \n",
       "1247  Experience managing outsourced facilities serv...  \n",
       "1248  Experience working on international programs.\\...  \n",
       "1249  Experience working on international programs.\\...  "
      ]
     },
     "execution_count": 4,
     "metadata": {},
     "output_type": "execute_result"
    }
   ],
   "source": [
    "skills.tail()"
   ]
  },
  {
   "cell_type": "code",
   "execution_count": 5,
   "metadata": {
    "_uuid": "873d563cf50829bed14c9c2894599fb0a1d2246b"
   },
   "outputs": [
    {
     "name": "stdout",
     "output_type": "stream",
     "text": [
      "<class 'pandas.core.frame.DataFrame'>\n",
      "RangeIndex: 1250 entries, 0 to 1249\n",
      "Data columns (total 7 columns):\n",
      "Company                     1250 non-null object\n",
      "Title                       1250 non-null object\n",
      "Category                    1250 non-null object\n",
      "Location                    1250 non-null object\n",
      "Responsibilities            1235 non-null object\n",
      "Minimum Qualifications      1236 non-null object\n",
      "Preferred Qualifications    1236 non-null object\n",
      "dtypes: object(7)\n",
      "memory usage: 68.4+ KB\n"
     ]
    }
   ],
   "source": [
    "# Use.info() to check the number of observations, column types and NAN value\n",
    "skills.info()"
   ]
  },
  {
   "cell_type": "markdown",
   "metadata": {
    "_uuid": "0cb4755db835a8c9da715032c2a8b3d5f629ed8b"
   },
   "source": [
    "## Part 3: Simple Descriptive Analysis"
   ]
  },
  {
   "cell_type": "markdown",
   "metadata": {
    "_uuid": "d668ab3e80529724aa8bea87964a5419a92bf30f",
    "collapsed": true
   },
   "source": [
    "### 3.1 Job by Company name\n",
    "\n",
    "There are 1227 jobs from Google and 23 from its Subsidiary Youtube\n"
   ]
  },
  {
   "cell_type": "code",
   "execution_count": 6,
   "metadata": {
    "_uuid": "4deb67c5cee30d5f5a3c67887d48c351c9a1d360"
   },
   "outputs": [
    {
     "data": {
      "text/plain": [
       "Google     1227\n",
       "YouTube      23\n",
       "Name: Company, dtype: int64"
      ]
     },
     "execution_count": 6,
     "metadata": {},
     "output_type": "execute_result"
    }
   ],
   "source": [
    "skills['Company'].value_counts()"
   ]
  },
  {
   "cell_type": "markdown",
   "metadata": {
    "_uuid": "f5e674cb558c7a41b823725ab0bb498467011a1d"
   },
   "source": [
    "### 3.2 By job category\n",
    "\n",
    "The top category are from Sales & Account Management, Marketing & Communications, Finance and Technical Solutions"
   ]
  },
  {
   "cell_type": "code",
   "execution_count": 7,
   "metadata": {
    "_uuid": "cf97dca72333df9c318c2f2a26fb58c6d8bc443a"
   },
   "outputs": [
    {
     "name": "stdout",
     "output_type": "stream",
     "text": [
      "Sales & Account Management    168\n",
      "Marketing & Communications    165\n",
      "Finance                       115\n",
      "Technical Solutions           101\n",
      "Business Strategy              98\n",
      "People Operations              86\n",
      "User Experience & Design       84\n",
      "Program Management             74\n",
      "Partnerships                   60\n",
      "Product & Customer Support     50\n",
      "Name: Category, dtype: int64\n"
     ]
    },
    {
     "data": {
      "text/plain": [
       "<matplotlib.axes._subplots.AxesSubplot at 0x2d5898ac518>"
      ]
     },
     "execution_count": 7,
     "metadata": {},
     "output_type": "execute_result"
    },
    {
     "data": {
      "image/png": "[encoded data removed]",
      "text/plain": [
       "<Figure size 432x288 with 1 Axes>"
      ]
     },
     "metadata": {},
     "output_type": "display_data"
    }
   ],
   "source": [
    "top_10_category=skills['Category'].value_counts().head(10)\n",
    "print(top_10_category)\n",
    "\n",
    "# Use seaborn.barplot to visualize the top 10 Job Categories\n",
    "sns.barplot(x=top_10_category.values, y=top_10_category.index, orient='h')"
   ]
  },
  {
   "cell_type": "markdown",
   "metadata": {
    "_uuid": "25176cce1c9bf9cf07b39763e5b86a1ff132c59f"
   },
   "source": [
    "### 3.3 By Location"
   ]
  },
  {
   "cell_type": "code",
   "execution_count": 8,
   "metadata": {
    "_uuid": "2100f43bdb21f7639403905be7251b4447cae243"
   },
   "outputs": [
    {
     "name": "stdout",
     "output_type": "stream",
     "text": [
      "Mountain View, CA, United States    190\n",
      "Sunnyvale, CA, United States        155\n",
      "Dublin, Ireland                      87\n",
      "New York, NY, United States          70\n",
      "London, United Kingdom               62\n",
      "San Francisco, CA, United States     49\n",
      "Singapore                            41\n",
      "Tokyo, Japan                         31\n",
      "Sydney, Australia                    31\n",
      "San Bruno, CA, United States         28\n",
      "Name: Location, dtype: int64\n"
     ]
    },
    {
     "data": {
      "text/plain": [
       "<matplotlib.axes._subplots.AxesSubplot at 0x2d58abfec88>"
      ]
     },
     "execution_count": 8,
     "metadata": {},
     "output_type": "execute_result"
    },
    {
     "data": {
      "image/png": "[encoded data removed]",
      "text/plain": [
       "<Figure size 432x288 with 1 Axes>"
      ]
     },
     "metadata": {},
     "output_type": "display_data"
    }
   ],
   "source": [
    "# Check the top 10 location\n",
    "top_10_location=skills['Location'].value_counts().head(10)\n",
    "print(top_10_location)\n",
    "sns.barplot(x=top_10_location.values, y=top_10_location.index, orient='h')\n",
    "# The top 3 Job locations are Mountain View which is the headquarter, Sunnyvalue, and Durbin."
   ]
  },
  {
   "cell_type": "code",
   "execution_count": 9,
   "metadata": {
    "_uuid": "3e3d98336567b4fb288a49e624f459e159939d22"
   },
   "outputs": [
    {
     "name": "stdout",
     "output_type": "stream",
     "text": [
      "(155, 7)\n"
     ]
    },
    {
     "data": {
      "text/html": [
       "<div>\n",
       "<style scoped>\n",
       "    .dataframe tbody tr th:only-of-type {\n",
       "        vertical-align: middle;\n",
       "    }\n",
       "\n",
       "    .dataframe tbody tr th {\n",
       "        vertical-align: top;\n",
       "    }\n",
       "\n",
       "    .dataframe thead th {\n",
       "        text-align: right;\n",
       "    }\n",
       "</style>\n",
       "<table border=\"1\" class=\"dataframe\">\n",
       "  <thead>\n",
       "    <tr style=\"text-align: right;\">\n",
       "      <th></th>\n",
       "      <th>Company</th>\n",
       "      <th>Title</th>\n",
       "      <th>Category</th>\n",
       "      <th>Location</th>\n",
       "      <th>Responsibilities</th>\n",
       "      <th>Minimum Qualifications</th>\n",
       "      <th>Preferred Qualifications</th>\n",
       "    </tr>\n",
       "  </thead>\n",
       "  <tbody>\n",
       "    <tr>\n",
       "      <th>4</th>\n",
       "      <td>Google</td>\n",
       "      <td>Program Manager, Audio Visual (AV) Deployments</td>\n",
       "      <td>Program Management</td>\n",
       "      <td>Sunnyvale, CA, United States</td>\n",
       "      <td>Plan requirements with internal customers.\\nPr...</td>\n",
       "      <td>BA/BS degree or equivalent practical experienc...</td>\n",
       "      <td>CTS Certification.\\nExperience in the construc...</td>\n",
       "    </tr>\n",
       "    <tr>\n",
       "      <th>7</th>\n",
       "      <td>Google</td>\n",
       "      <td>Strategic Technology Partner Manager, Healthca...</td>\n",
       "      <td>Partnerships</td>\n",
       "      <td>Sunnyvale, CA, United States</td>\n",
       "      <td>Lead the development and strategy with partner...</td>\n",
       "      <td>BA/BS degree or equivalent practical experienc...</td>\n",
       "      <td>BA/BS degree in a technical, life sciences or ...</td>\n",
       "    </tr>\n",
       "    <tr>\n",
       "      <th>19</th>\n",
       "      <td>Google</td>\n",
       "      <td>Technical Program Manager, ASIC Development</td>\n",
       "      <td>Program Management</td>\n",
       "      <td>Sunnyvale, CA, United States</td>\n",
       "      <td>Plan, coordinate, and deliver platforms hardwa...</td>\n",
       "      <td>BS degree in Electrical Engineering, Computer ...</td>\n",
       "      <td>Master's or PhD degree in engineering.\\nExperi...</td>\n",
       "    </tr>\n",
       "    <tr>\n",
       "      <th>23</th>\n",
       "      <td>Google</td>\n",
       "      <td>Survey Lead, Google Cloud Support</td>\n",
       "      <td>Product &amp; Customer Support</td>\n",
       "      <td>Sunnyvale, CA, United States</td>\n",
       "      <td>Develop and track core metrics across all Goog...</td>\n",
       "      <td>BA/BS degree in a technical or quantitative/bu...</td>\n",
       "      <td>MBA, MS or PhD degree in a related or quantita...</td>\n",
       "    </tr>\n",
       "    <tr>\n",
       "      <th>24</th>\n",
       "      <td>Google</td>\n",
       "      <td>Technical Trainer Manager, Google Cloud</td>\n",
       "      <td>Program Management</td>\n",
       "      <td>Sunnyvale, CA, United States</td>\n",
       "      <td>Manage a global team of Technical Trainers.\\nG...</td>\n",
       "      <td>7 years of experience in a Technical Training ...</td>\n",
       "      <td>Experience with Cloud Infrastructure, Data and...</td>\n",
       "    </tr>\n",
       "  </tbody>\n",
       "</table>\n",
       "</div>"
      ],
      "text/plain": [
       "   Company                                              Title  \\\n",
       "4   Google     Program Manager, Audio Visual (AV) Deployments   \n",
       "7   Google  Strategic Technology Partner Manager, Healthca...   \n",
       "19  Google        Technical Program Manager, ASIC Development   \n",
       "23  Google                  Survey Lead, Google Cloud Support   \n",
       "24  Google            Technical Trainer Manager, Google Cloud   \n",
       "\n",
       "                      Category                      Location  \\\n",
       "4           Program Management  Sunnyvale, CA, United States   \n",
       "7                 Partnerships  Sunnyvale, CA, United States   \n",
       "19          Program Management  Sunnyvale, CA, United States   \n",
       "23  Product & Customer Support  Sunnyvale, CA, United States   \n",
       "24          Program Management  Sunnyvale, CA, United States   \n",
       "\n",
       "                                     Responsibilities  \\\n",
       "4   Plan requirements with internal customers.\\nPr...   \n",
       "7   Lead the development and strategy with partner...   \n",
       "19  Plan, coordinate, and deliver platforms hardwa...   \n",
       "23  Develop and track core metrics across all Goog...   \n",
       "24  Manage a global team of Technical Trainers.\\nG...   \n",
       "\n",
       "                               Minimum Qualifications  \\\n",
       "4   BA/BS degree or equivalent practical experienc...   \n",
       "7   BA/BS degree or equivalent practical experienc...   \n",
       "19  BS degree in Electrical Engineering, Computer ...   \n",
       "23  BA/BS degree in a technical or quantitative/bu...   \n",
       "24  7 years of experience in a Technical Training ...   \n",
       "\n",
       "                             Preferred Qualifications  \n",
       "4   CTS Certification.\\nExperience in the construc...  \n",
       "7   BA/BS degree in a technical, life sciences or ...  \n",
       "19  Master's or PhD degree in engineering.\\nExperi...  \n",
       "23  MBA, MS or PhD degree in a related or quantita...  \n",
       "24  Experience with Cloud Infrastructure, Data and...  "
      ]
     },
     "execution_count": 9,
     "metadata": {},
     "output_type": "execute_result"
    }
   ],
   "source": [
    "# Check why Sunnyvale has a lot of job opening\n",
    "job_sunnyvale=skills[skills['Location']=='Sunnyvale, CA, United States']\n",
    "# it looks like many of the jobs at the Sunnyvale location are related to Google Cloud\n",
    "print(job_sunnyvale.shape)\n",
    "job_sunnyvale.head()"
   ]
  },
  {
   "cell_type": "code",
   "execution_count": 10,
   "metadata": {
    "_uuid": "a65bf4ab0b431f3d04558634f526d0bf5df461e4"
   },
   "outputs": [
    {
     "name": "stdout",
     "output_type": "stream",
     "text": [
      "0    94\n",
      "1    61\n",
      "Name: cloudrelated, dtype: int64\n",
      "0.3935483870967742\n"
     ]
    },
    {
     "name": "stderr",
     "output_type": "stream",
     "text": [
      "C:\\Users\\zhang\\Anaconda3 new\\lib\\site-packages\\ipykernel_launcher.py:16: SettingWithCopyWarning: \n",
      "A value is trying to be set on a copy of a slice from a DataFrame.\n",
      "Try using .loc[row_indexer,col_indexer] = value instead\n",
      "\n",
      "See the caveats in the documentation: http://pandas.pydata.org/pandas-docs/stable/indexing.html#indexing-view-versus-copy\n",
      "  app.launch_new_instance()\n"
     ]
    }
   ],
   "source": [
    "# Let's check how many jobs has Title or Responsibilities mentions Google Cloud for job_sunnyvale\n",
    "cloudrelated=[]\n",
    "job_sunnyvale.reset_index(inplace=True)\n",
    "title=job_sunnyvale['Title'].str.lower()\n",
    "res=job_sunnyvale['Responsibilities'].str.lower()\n",
    "\n",
    "for i in range(len(title)):\n",
    "        if re.findall('google cloud', title[i], flags=0): \n",
    "            cloudrelated.append(1)\n",
    "        elif re.findall('google cloud', res[i], flags=0):\n",
    "            cloudrelated.append(1)\n",
    "        else:\n",
    "            cloudrelated.append(0)\n",
    "cloudrelated=pd.Series(cloudrelated)  \n",
    "\n",
    "job_sunnyvale['cloudrelated']=cloudrelated\n",
    "print(job_sunnyvale['cloudrelated'].value_counts())\n",
    "print(job_sunnyvale['cloudrelated'].sum()/job_sunnyvale['cloudrelated'].count())\n",
    "# As we can see 39% of the jobs at Google Sunnyvale location mentioned Google cloud in the Job Title or description"
   ]
  },
  {
   "cell_type": "markdown",
   "metadata": {
    "_uuid": "907d9113f3d5df0e70e3631bd733c13a1de43b5c"
   },
   "source": [
    "### 3.4 Check the most popular language at Google\n",
    "\n",
    "language_list = ['python', 'java', 'c++', 'php', 'javascript', 'objective-c', 'ruby', 'perl','c','c#', \n",
    "                            'sql','kotlin', 'swift', 'ios','fortran', 'go', 'haskell', 'html', 'r','sas','scala','stata']\n",
    "#### 3.4.1 Most popular language for all jobs"
   ]
  },
  {
   "cell_type": "code",
   "execution_count": 11,
   "metadata": {
    "_uuid": "5e8b125497bf71ec32c90bb231fe3dc465452665"
   },
   "outputs": [],
   "source": [
    "language_list = ['python', 'java', 'c++', 'php', 'javascript', 'objective-c', 'ruby', 'perl','c','c#', \n",
    "                            'sql','kotlin', 'swift', 'ios','fortran', 'go', 'haskell', 'html', 'r','sas','scala','stata']\n",
    "language_dict_mini=dict((language, 0) for language in language_list)\n",
    "language_dict_prefer=dict((language, 0) for language in language_list)\n",
    "\n",
    "mini=skills['Minimum Qualifications'].str.lower().tolist()\n",
    "prefer=skills['Preferred Qualifications'].str.lower().tolist()\n",
    "\n",
    "mini_string=' '.join(str(word) for word in mini)\n",
    "prefer_string=' '.join(str(word) for word in prefer)"
   ]
  },
  {
   "cell_type": "code",
   "execution_count": 12,
   "metadata": {
    "_uuid": "2e128c5567055716c206a9a06a84113c330e5ee8"
   },
   "outputs": [
    {
     "data": {
      "text/plain": [
       "python         97\n",
       "javascript     77\n",
       "java           76\n",
       "sql            73\n",
       "c++            54\n",
       "r              37\n",
       "html           36\n",
       "go             26\n",
       "sas            18\n",
       "c              18\n",
       "c#             15\n",
       "ruby           14\n",
       "stata          11\n",
       "ios             8\n",
       "php             7\n",
       "perl            6\n",
       "kotlin          3\n",
       "objective-c     3\n",
       "scala           0\n",
       "haskell         0\n",
       "swift           0\n",
       "fortran         0\n",
       "dtype: int64"
      ]
     },
     "execution_count": 12,
     "metadata": {},
     "output_type": "execute_result"
    }
   ],
   "source": [
    "for language in re.findall(r\"[\\w'+#-]+|[.!?;’]\", mini_string):\n",
    "    if language in language_list:\n",
    "        language_dict_mini[language] += 1\n",
    "language_mini=pd.Series(language_dict_mini)\n",
    "language_mini.sort_values(ascending=False)"
   ]
  },
  {
   "cell_type": "code",
   "execution_count": 13,
   "metadata": {
    "_uuid": "22e882aa033b7020ffdac44ca4734cbf98124ce8"
   },
   "outputs": [
    {
     "data": {
      "text/plain": [
       "python         79\n",
       "javascript     66\n",
       "sql            64\n",
       "java           50\n",
       "html           45\n",
       "c++            35\n",
       "php            21\n",
       "r              20\n",
       "c              20\n",
       "ios            18\n",
       "go             17\n",
       "perl           11\n",
       "stata           8\n",
       "ruby            6\n",
       "c#              6\n",
       "objective-c     5\n",
       "sas             4\n",
       "swift           2\n",
       "scala           0\n",
       "kotlin          0\n",
       "fortran         0\n",
       "haskell         0\n",
       "dtype: int64"
      ]
     },
     "execution_count": 13,
     "metadata": {},
     "output_type": "execute_result"
    }
   ],
   "source": [
    "for language in re.findall(r\"[\\w'+#-]+|[.!?;’]\", prefer_string):\n",
    "    if language in language_list:\n",
    "        language_dict_prefer[language] += 1\n",
    "language_prefer=pd.Series(language_dict_prefer)\n",
    "language_prefer.sort_values(ascending=False)"
   ]
  },
  {
   "cell_type": "code",
   "execution_count": 14,
   "metadata": {
    "_uuid": "0aa56650bfc6f9f9c7afdcd189323cf1524d5692"
   },
   "outputs": [
    {
     "data": {
      "text/plain": [
       "Text(0,0.5,'Programming Language')"
      ]
     },
     "execution_count": 14,
     "metadata": {},
     "output_type": "execute_result"
    },
    {
     "data": {
      "image/png": "[encoded data removed]",
      "text/plain": [
       "<Figure size 1440x720 with 2 Axes>"
      ]
     },
     "metadata": {},
     "output_type": "display_data"
    }
   ],
   "source": [
    "# Visualize the top 10 languages in the minimum qualifications and preferred qualifications\n",
    "plt.figure(figsize=(20,10))\n",
    "plt.subplot(1,2,1)\n",
    "sns.barplot(x=language_mini.sort_values(ascending=False).head(10).values, y=language_mini.sort_values(ascending=False).head(10).index, orient='h')\n",
    "plt.title('Top 10 languages mentioned in Minimum Qualifications')\n",
    "plt.xlabel('Count')\n",
    "plt.ylabel('Programming Language')\n",
    "\n",
    "plt.subplot(1,2,2)\n",
    "sns.barplot(x=language_prefer.sort_values(ascending=False).head(10).values, y=language_prefer.sort_values(ascending=False).head(10).index, orient='h')\n",
    "plt.title('Top 10 languages mentioned in Prefered Qualifications')\n",
    "plt.xlabel('Count')\n",
    "plt.ylabel('Programming Language')"
   ]
  },
  {
   "cell_type": "markdown",
   "metadata": {
    "_uuid": "c6e81e6d801d8a185a59a55043bf1caab41ef249"
   },
   "source": [
    "From the plot, we can see that python, java, javascript, sql are the top 4 languages in the minimum and preferred qualifications"
   ]
  },
  {
   "cell_type": "markdown",
   "metadata": {
    "_uuid": "ee4be307cfa62aa40ff90bd313bbe9356bcafd7e"
   },
   "source": [
    "### 3.5 Check the degree needed at Google\n",
    "\n",
    "    1. phd: includes phd, Ph.D., doctor, M.D., DDS\n",
    "    2. master: for master, ma, M.A., ms, M.S., mba, MFA \n",
    "    3. bachelor: for bs,B.S., ba, B.A.,  bachelor, BFA, BAS \n",
    "    4. Associate: for Associate of Arts (A.A.), Associate of Science (A.S.), Associate of Applied Science (AAS), high school"
   ]
  },
  {
   "cell_type": "code",
   "execution_count": 15,
   "metadata": {
    "_uuid": "678dc58276c848d466b6eb5e86f65f47d3dcf766"
   },
   "outputs": [
    {
     "data": {
      "text/plain": [
       "{'phd': 0, 'master': 0, 'bachelor': 0, 'associate': 0, 'no degree': 0}"
      ]
     },
     "execution_count": 15,
     "metadata": {},
     "output_type": "execute_result"
    }
   ],
   "source": [
    "degree_mini=dict((val, 0) for val in ['phd', 'master', 'bachelor', 'associate', 'no degree'])\n",
    "degree_mini"
   ]
  },
  {
   "cell_type": "code",
   "execution_count": 16,
   "metadata": {
    "_uuid": "a9c1681979b6cb5e34ecb41468222aa51a3a0864"
   },
   "outputs": [
    {
     "data": {
      "text/plain": [
       "phd             8\n",
       "master        115\n",
       "bachelor     1732\n",
       "associate       1\n",
       "dtype: int64"
      ]
     },
     "execution_count": 16,
     "metadata": {},
     "output_type": "execute_result"
    }
   ],
   "source": [
    "# Create list for the degrees\n",
    "phd=['phd', 'ph.d', 'doctor', 'm.d.', 'dds']\n",
    "master=['master', 'ma', 'm.a.', 'ms', 'm.s.', 'mba', 'mfa']\n",
    "bachelor=['bachelor', 'bs', 'b.s.', 'ba', 'b.a.', 'bfa', 'bas']\n",
    "associate=['associate', 'a.a.', 'a.s.', 'aas', 'high school']\n",
    "\n",
    "degree_mini=dict((val, 0) for val in ['phd', 'master', 'bachelor', 'associate'])\n",
    "degree_prefer=dict((val, 0) for val in ['phd', 'master', 'bachelor', 'associate'])\n",
    "\n",
    "mini=skills['Minimum Qualifications'].str.lower()\n",
    "prefer=skills['Preferred Qualifications'].str.lower()\n",
    "\n",
    "\n",
    "for i in range(len(mini)):\n",
    "    for degree in re.findall(r\"[\\w'+#-]+|[.!?;’]\", str(mini[i])):\n",
    "        if degree in phd:\n",
    "            degree_mini['phd']+=1\n",
    "        elif degree in master:\n",
    "            degree_mini['master']+=1\n",
    "        elif degree in bachelor:\n",
    "            degree_mini['bachelor']+=1\n",
    "        elif degree in associate:\n",
    "            degree_mini['associate']+=1\n",
    "        \n",
    "       \n",
    "degree_mini=pd.Series(degree_mini)  \n",
    "degree_mini"
   ]
  },
  {
   "cell_type": "code",
   "execution_count": 17,
   "metadata": {
    "_uuid": "6c2a60abaf2b40cd8f07e810b236c0efdc071584"
   },
   "outputs": [
    {
     "data": {
      "text/plain": [
       "phd           68\n",
       "master       310\n",
       "bachelor      40\n",
       "associate      1\n",
       "dtype: int64"
      ]
     },
     "execution_count": 17,
     "metadata": {},
     "output_type": "execute_result"
    }
   ],
   "source": [
    "for i in range(len(prefer)):\n",
    "    for degree in re.findall(r\"[\\w'+#-]+|[.!?;’]\", str(prefer[i])):\n",
    "        if degree in phd:\n",
    "            degree_prefer['phd']+=1\n",
    "        elif degree in master:\n",
    "            degree_prefer['master']+=1\n",
    "        elif degree in bachelor:\n",
    "            degree_prefer['bachelor']+=1\n",
    "        elif degree in associate:\n",
    "            degree_prefer['associate']+=1\n",
    "        \n",
    "       \n",
    "degree_prefer=pd.Series(degree_prefer)  \n",
    "degree_prefer"
   ]
  },
  {
   "cell_type": "code",
   "execution_count": 18,
   "metadata": {
    "_uuid": "b857c3572a24ea1c409f1ca64f4b369158b8baa5"
   },
   "outputs": [
    {
     "data": {
      "text/plain": [
       "Text(0,0.5,'Degree')"
      ]
     },
     "execution_count": 18,
     "metadata": {},
     "output_type": "execute_result"
    },
    {
     "data": {
      "image/png": "[encoded data removed]",
      "text/plain": [
       "<Figure size 1440x720 with 2 Axes>"
      ]
     },
     "metadata": {},
     "output_type": "display_data"
    }
   ],
   "source": [
    "# Visualize the degree in the minimum qualifications and preferred qualifications\n",
    "plt.figure(figsize=(20,10))\n",
    "plt.subplot(1,2,1)\n",
    "sns.barplot(x=degree_mini.sort_values(ascending=False).values, y=degree_mini.sort_values(ascending=False).index, orient='h')\n",
    "plt.title('Degrees mentioned in Minimum Qualifications')\n",
    "plt.xlabel('Count')\n",
    "plt.ylabel('Degree')\n",
    "\n",
    "plt.subplot(1,2,2)\n",
    "sns.barplot(x=degree_prefer.sort_values(ascending=False).values, y=degree_prefer.sort_values(ascending=False).index, orient='h')\n",
    "plt.title('Degrees mentioned in Prefered Qualifications')\n",
    "plt.xlabel('Count')\n",
    "plt.ylabel('Degree')"
   ]
  },
  {
   "cell_type": "markdown",
   "metadata": {
    "_uuid": "ee99ae3b23cf239e098fac2237d893911ad708de"
   },
   "source": [
    "From the visualization, although bachelor is required most in the minimum qualifications, Google prefer to hire master and phd degree."
   ]
  },
  {
   "cell_type": "markdown",
   "metadata": {
    "_uuid": "a16b2a3193a9bbd3ec567f44afd7802f126ee7d4",
    "collapsed": true
   },
   "source": [
    "### 3.6 Check the number of years experience needed at Google\n",
    "\n",
    "Compare for the years of experience in the minimum qualifications and prefered qualifications"
   ]
  },
  {
   "cell_type": "code",
   "execution_count": 19,
   "metadata": {
    "_uuid": "3e073436ca6e9ea1ba83860501c70ae4f0b12448"
   },
   "outputs": [],
   "source": [
    "mini_string=\" \".join(str(i) for i in mini)\n",
    "prefer_string=\" \".join(str(i) for i in prefer)"
   ]
  },
  {
   "cell_type": "code",
   "execution_count": 20,
   "metadata": {
    "_uuid": "e90bf2aa5b1a2390434f1a0a2a9c1794fca39163"
   },
   "outputs": [
    {
     "name": "stdout",
     "output_type": "stream",
     "text": [
      "defaultdict(<function <lambda> at 0x000002D58AC45048>, {'3': 114, '7': 41, '2': 60, '1': 16, '4': 92, '10': 76, '5': 181, '12': 18, '8': 65, '6': 60, '9': 8, '15': 4, '13': 1, '11': 1, '14': 1})\n",
      "defaultdict(<function <lambda> at 0x000002D58B0721E0>, {'5': 49, '8': 11, '10': 49, '2': 31, '4': 20, '15': 4, '3': 16, '7': 11, '1': 13, '6': 8, '12': 6, '9': 1})\n"
     ]
    }
   ],
   "source": [
    "# the code to find number of years refer to  https://www.kaggle.com/niyamatalmass/what-you-need-to-get-a-job-at-google\n",
    "\n",
    "from collections import defaultdict\n",
    "years_exp_mini = defaultdict(lambda: 0)\n",
    "years_exp_prefer = defaultdict(lambda: 0)\n",
    "for w in re.findall(r'([0-9]+) year', mini_string):\n",
    "     years_exp_mini[w] += 1\n",
    "for w in re.findall(r'([0-9]+) year', prefer_string):\n",
    "     years_exp_prefer[w] += 1\n",
    "        \n",
    "print(years_exp_mini)\n",
    "print(years_exp_prefer)"
   ]
  },
  {
   "cell_type": "code",
   "execution_count": 21,
   "metadata": {
    "_uuid": "83057ea4d4222624ca73c52226865a06db754907"
   },
   "outputs": [],
   "source": [
    "years_exp_mini=pd.Series(years_exp_mini).sort_values(ascending=False)  \n",
    "years_exp_prefer=pd.Series(years_exp_prefer).sort_values(ascending=False)  "
   ]
  },
  {
   "cell_type": "code",
   "execution_count": 22,
   "metadata": {
    "_uuid": "01ccd0d5cfa67de8231a6f647e4a1a80a16c2fd7"
   },
   "outputs": [
    {
     "data": {
      "text/plain": [
       "Text(0,0.5,'Years of Experience')"
      ]
     },
     "execution_count": 22,
     "metadata": {},
     "output_type": "execute_result"
    },
    {
     "data": {
      "image/png": "[encoded data removed]",
      "text/plain": [
       "<Figure size 1440x720 with 2 Axes>"
      ]
     },
     "metadata": {},
     "output_type": "display_data"
    }
   ],
   "source": [
    "# Visualize the years of experience in the minimum qualifications and preferred qualifications\n",
    "plt.figure(figsize=(20,10))\n",
    "plt.subplot(1,2,1)\n",
    "years_exp_mini.plot.barh(x=years_exp_mini.values, y=years_exp_mini.index)\n",
    "plt.title('Years of Experience mentioned in Minimum Qualifications')\n",
    "plt.xlabel('Count')\n",
    "plt.ylabel('Years of Experience')\n",
    "\n",
    "plt.subplot(1,2,2)\n",
    "years_exp_prefer.plot.barh(x=years_exp_prefer.values, y=years_exp_prefer.index)\n",
    "plt.title('Years of Experience mentioned in Prefered Qualifications')\n",
    "plt.xlabel('Count')\n",
    "plt.ylabel('Years of Experience')"
   ]
  },
  {
   "cell_type": "markdown",
   "metadata": {
    "_uuid": "85a71faf1506715ac1a1196269c6c709508add66"
   },
   "source": [
    "From the barplot, we can see that the numbers of years required most in the minimum qualifications is 5 years. However, in the preferred qualifications, the years of experience required are 10 years and 5 years."
   ]
  },
  {
   "cell_type": "markdown",
   "metadata": {
    "_uuid": "a88cf861726108725ac502b9b24e4a965b1eaa3a",
    "collapsed": true
   },
   "source": [
    "Thank you for reading this kernel. If you think my kernel is helpful, please give me a voteup. Thanks."
   ]
  },
  {
   "cell_type": "code",
   "execution_count": null,
   "metadata": {
    "_uuid": "81730a964669e50f2bd21d2ba9931a401a889309"
   },
   "outputs": [],
   "source": []
  }
 ],
 "metadata": {
  "kernelspec": {
   "display_name": "Python 3",
   "language": "python",
   "name": "python3"
  },
  "language_info": {
   "codemirror_mode": {
    "name": "ipython",
    "version": 3
   },
   "file_extension": ".py",
   "mimetype": "text/x-python",
   "name": "python",
   "nbconvert_exporter": "python",
   "pygments_lexer": "ipython3",
   "version": "3.6.5"
  }
 },
 "nbformat": 4,
 "nbformat_minor": 1
}
